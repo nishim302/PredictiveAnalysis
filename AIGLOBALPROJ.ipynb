{
 "cells": [
  {
   "cell_type": "markdown",
   "id": "2cb404dc",
   "metadata": {},
   "source": [
    "# Classification models\n",
    "## Logistic regression "
   ]
  },
  {
   "cell_type": "code",
   "execution_count": 2,
   "id": "a4a873bf",
   "metadata": {},
   "outputs": [],
   "source": [
    "import pandas as pd\n",
    "from sklearn import linear_model\n",
    "import matplotlib.pyplot as plt\n",
    "%matplotlib inline\n",
    "from sklearn.metrics import accuracy_score, precision_score, recall_score, f1_score\n",
    "from sklearn.svm import SVC\n",
    "from sklearn.naive_bayes import GaussianNB"
   ]
  },
  {
   "cell_type": "code",
   "execution_count": 3,
   "id": "ea17f8a2",
   "metadata": {},
   "outputs": [
    {
     "data": {
      "text/html": [
       "<div>\n",
       "<style scoped>\n",
       "    .dataframe tbody tr th:only-of-type {\n",
       "        vertical-align: middle;\n",
       "    }\n",
       "\n",
       "    .dataframe tbody tr th {\n",
       "        vertical-align: top;\n",
       "    }\n",
       "\n",
       "    .dataframe thead th {\n",
       "        text-align: right;\n",
       "    }\n",
       "</style>\n",
       "<table border=\"1\" class=\"dataframe\">\n",
       "  <thead>\n",
       "    <tr style=\"text-align: right;\">\n",
       "      <th></th>\n",
       "      <th>Country</th>\n",
       "      <th>Talent</th>\n",
       "      <th>Infrastructure</th>\n",
       "      <th>Operating Environment</th>\n",
       "      <th>Research</th>\n",
       "      <th>Development</th>\n",
       "      <th>Government Strategy</th>\n",
       "      <th>Commercial</th>\n",
       "      <th>Total score</th>\n",
       "      <th>Region</th>\n",
       "      <th>Cluster</th>\n",
       "      <th>Income group</th>\n",
       "      <th>Political regime</th>\n",
       "    </tr>\n",
       "  </thead>\n",
       "  <tbody>\n",
       "    <tr>\n",
       "      <th>0</th>\n",
       "      <td>United States of America</td>\n",
       "      <td>100.00</td>\n",
       "      <td>94.02</td>\n",
       "      <td>64.56</td>\n",
       "      <td>100.00</td>\n",
       "      <td>100.00</td>\n",
       "      <td>77.39</td>\n",
       "      <td>100.00</td>\n",
       "      <td>100.00</td>\n",
       "      <td>Americas</td>\n",
       "      <td>Power players</td>\n",
       "      <td>High</td>\n",
       "      <td>Liberal democracy</td>\n",
       "    </tr>\n",
       "    <tr>\n",
       "      <th>1</th>\n",
       "      <td>China</td>\n",
       "      <td>16.51</td>\n",
       "      <td>100.00</td>\n",
       "      <td>91.57</td>\n",
       "      <td>71.42</td>\n",
       "      <td>79.97</td>\n",
       "      <td>94.87</td>\n",
       "      <td>44.02</td>\n",
       "      <td>62.92</td>\n",
       "      <td>Asia-Pacific</td>\n",
       "      <td>Power players</td>\n",
       "      <td>Upper middle</td>\n",
       "      <td>Closed autocracy</td>\n",
       "    </tr>\n",
       "    <tr>\n",
       "      <th>2</th>\n",
       "      <td>United Kingdom</td>\n",
       "      <td>39.65</td>\n",
       "      <td>71.43</td>\n",
       "      <td>74.65</td>\n",
       "      <td>36.50</td>\n",
       "      <td>25.03</td>\n",
       "      <td>82.82</td>\n",
       "      <td>18.91</td>\n",
       "      <td>40.93</td>\n",
       "      <td>Europe</td>\n",
       "      <td>Traditional champions</td>\n",
       "      <td>High</td>\n",
       "      <td>Liberal democracy</td>\n",
       "    </tr>\n",
       "    <tr>\n",
       "      <th>3</th>\n",
       "      <td>Canada</td>\n",
       "      <td>31.28</td>\n",
       "      <td>77.05</td>\n",
       "      <td>93.94</td>\n",
       "      <td>30.67</td>\n",
       "      <td>25.78</td>\n",
       "      <td>100.00</td>\n",
       "      <td>14.88</td>\n",
       "      <td>40.19</td>\n",
       "      <td>Americas</td>\n",
       "      <td>Traditional champions</td>\n",
       "      <td>High</td>\n",
       "      <td>Liberal democracy</td>\n",
       "    </tr>\n",
       "  </tbody>\n",
       "</table>\n",
       "</div>"
      ],
      "text/plain": [
       "                    Country  Talent  Infrastructure  Operating Environment  \\\n",
       "0  United States of America  100.00           94.02                  64.56   \n",
       "1                     China   16.51          100.00                  91.57   \n",
       "2            United Kingdom   39.65           71.43                  74.65   \n",
       "3                    Canada   31.28           77.05                  93.94   \n",
       "\n",
       "   Research  Development  Government Strategy  Commercial  Total score  \\\n",
       "0    100.00       100.00                77.39      100.00       100.00   \n",
       "1     71.42        79.97                94.87       44.02        62.92   \n",
       "2     36.50        25.03                82.82       18.91        40.93   \n",
       "3     30.67        25.78               100.00       14.88        40.19   \n",
       "\n",
       "         Region                Cluster  Income group   Political regime  \n",
       "0      Americas          Power players          High  Liberal democracy  \n",
       "1  Asia-Pacific          Power players  Upper middle   Closed autocracy  \n",
       "2        Europe  Traditional champions          High  Liberal democracy  \n",
       "3      Americas  Traditional champions          High  Liberal democracy  "
      ]
     },
     "execution_count": 3,
     "metadata": {},
     "output_type": "execute_result"
    }
   ],
   "source": [
    "df = pd.read_csv(\"AIGLOBALINDEX.csv\")\n",
    "df.head(4)"
   ]
  },
  {
   "cell_type": "code",
   "execution_count": 98,
   "id": "e0ab5185",
   "metadata": {},
   "outputs": [
    {
     "name": "stdout",
     "output_type": "stream",
     "text": [
      "<class 'pandas.core.frame.DataFrame'>\n",
      "RangeIndex: 62 entries, 0 to 61\n",
      "Data columns (total 13 columns):\n",
      " #   Column                 Non-Null Count  Dtype  \n",
      "---  ------                 --------------  -----  \n",
      " 0   Country                62 non-null     object \n",
      " 1   Talent                 62 non-null     float64\n",
      " 2   Infrastructure         62 non-null     float64\n",
      " 3   Operating Environment  62 non-null     float64\n",
      " 4   Research               62 non-null     float64\n",
      " 5   Development            62 non-null     float64\n",
      " 6   Government Strategy    62 non-null     float64\n",
      " 7   Commercial             62 non-null     float64\n",
      " 8   Total score            62 non-null     float64\n",
      " 9   Region                 62 non-null     object \n",
      " 10  Cluster                62 non-null     object \n",
      " 11  Income group           62 non-null     object \n",
      " 12  Political regime       62 non-null     object \n",
      "dtypes: float64(8), object(5)\n",
      "memory usage: 6.4+ KB\n",
      "None\n"
     ]
    }
   ],
   "source": [
    "print(df.info())\n"
   ]
  },
  {
   "cell_type": "code",
   "execution_count": 97,
   "id": "94cda626",
   "metadata": {},
   "outputs": [
    {
     "name": "stdout",
     "output_type": "stream",
     "text": [
      "(62, 13)\n"
     ]
    }
   ],
   "source": [
    "print(df.shape)"
   ]
  },
  {
   "cell_type": "code",
   "execution_count": 4,
   "id": "5968f6f3",
   "metadata": {},
   "outputs": [
    {
     "data": {
      "text/plain": [
       "<matplotlib.collections.PathCollection at 0x13fe81c9fa0>"
      ]
     },
     "execution_count": 4,
     "metadata": {},
     "output_type": "execute_result"
    },
    {
     "data": {
      "image/png": "[encoded data removed]",
      "text/plain": [
       "<Figure size 640x480 with 1 Axes>"
      ]
     },
     "metadata": {},
     "output_type": "display_data"
    }
   ],
   "source": [
    "plt.scatter(df.Development,df.Region,marker='+',color='red')"
   ]
  },
  {
   "cell_type": "code",
   "execution_count": null,
   "id": "7c77297e",
   "metadata": {},
   "outputs": [],
   "source": []
  },
  {
   "cell_type": "code",
   "execution_count": 5,
   "id": "14b3a432",
   "metadata": {},
   "outputs": [
    {
     "data": {
      "text/html": [
       "<div>\n",
       "<style scoped>\n",
       "    .dataframe tbody tr th:only-of-type {\n",
       "        vertical-align: middle;\n",
       "    }\n",
       "\n",
       "    .dataframe tbody tr th {\n",
       "        vertical-align: top;\n",
       "    }\n",
       "\n",
       "    .dataframe thead th {\n",
       "        text-align: right;\n",
       "    }\n",
       "</style>\n",
       "<table border=\"1\" class=\"dataframe\">\n",
       "  <thead>\n",
       "    <tr style=\"text-align: right;\">\n",
       "      <th></th>\n",
       "      <th>Development</th>\n",
       "    </tr>\n",
       "  </thead>\n",
       "  <tbody>\n",
       "    <tr>\n",
       "      <th>36</th>\n",
       "      <td>0.19</td>\n",
       "    </tr>\n",
       "    <tr>\n",
       "      <th>57</th>\n",
       "      <td>0.95</td>\n",
       "    </tr>\n",
       "    <tr>\n",
       "      <th>11</th>\n",
       "      <td>30.85</td>\n",
       "    </tr>\n",
       "    <tr>\n",
       "      <th>31</th>\n",
       "      <td>19.48</td>\n",
       "    </tr>\n",
       "    <tr>\n",
       "      <th>50</th>\n",
       "      <td>0.00</td>\n",
       "    </tr>\n",
       "    <tr>\n",
       "      <th>42</th>\n",
       "      <td>0.88</td>\n",
       "    </tr>\n",
       "    <tr>\n",
       "      <th>6</th>\n",
       "      <td>77.25</td>\n",
       "    </tr>\n",
       "    <tr>\n",
       "      <th>4</th>\n",
       "      <td>27.96</td>\n",
       "    </tr>\n",
       "    <tr>\n",
       "      <th>56</th>\n",
       "      <td>0.33</td>\n",
       "    </tr>\n",
       "    <tr>\n",
       "      <th>35</th>\n",
       "      <td>2.70</td>\n",
       "    </tr>\n",
       "    <tr>\n",
       "      <th>46</th>\n",
       "      <td>0.00</td>\n",
       "    </tr>\n",
       "    <tr>\n",
       "      <th>61</th>\n",
       "      <td>1.09</td>\n",
       "    </tr>\n",
       "    <tr>\n",
       "      <th>43</th>\n",
       "      <td>4.46</td>\n",
       "    </tr>\n",
       "  </tbody>\n",
       "</table>\n",
       "</div>"
      ],
      "text/plain": [
       "    Development\n",
       "36         0.19\n",
       "57         0.95\n",
       "11        30.85\n",
       "31        19.48\n",
       "50         0.00\n",
       "42         0.88\n",
       "6         77.25\n",
       "4         27.96\n",
       "56         0.33\n",
       "35         2.70\n",
       "46         0.00\n",
       "61         1.09\n",
       "43         4.46"
      ]
     },
     "execution_count": 5,
     "metadata": {},
     "output_type": "execute_result"
    }
   ],
   "source": [
    "from sklearn.model_selection import train_test_split\n",
    "X_train, X_test, y_train, y_test = train_test_split(df[['Development']],df.Region,train_size=0.8)\n",
    "\n",
    "X_test"
   ]
  },
  {
   "cell_type": "code",
   "execution_count": 6,
   "id": "4b1d1d60",
   "metadata": {},
   "outputs": [],
   "source": [
    "from sklearn.linear_model import LogisticRegression\n",
    "model = LogisticRegression()"
   ]
  },
  {
   "cell_type": "code",
   "execution_count": 7,
   "id": "c88083da",
   "metadata": {},
   "outputs": [
    {
     "data": {
      "text/plain": [
       "LogisticRegression()"
      ]
     },
     "execution_count": 7,
     "metadata": {},
     "output_type": "execute_result"
    }
   ],
   "source": [
    "model.fit(X_train, y_train)"
   ]
  },
  {
   "cell_type": "code",
   "execution_count": 8,
   "id": "0142ebcb",
   "metadata": {},
   "outputs": [
    {
     "data": {
      "text/plain": [
       "LogisticRegression()"
      ]
     },
     "execution_count": 8,
     "metadata": {},
     "output_type": "execute_result"
    }
   ],
   "source": [
    "model.fit(X_train, y_train)"
   ]
  },
  {
   "cell_type": "code",
   "execution_count": 9,
   "id": "ee3d4b51",
   "metadata": {},
   "outputs": [
    {
     "data": {
      "text/plain": [
       "array([[2.48593554e-01, 9.73157746e-02, 1.13929071e-01, 4.66653318e-01,\n",
       "        7.35082826e-02],\n",
       "       [2.30312381e-01, 1.00898110e-01, 1.18949933e-01, 4.75994462e-01,\n",
       "        7.38451142e-02],\n",
       "       [5.17347636e-03, 1.89709861e-01, 2.94287704e-01, 4.70744192e-01,\n",
       "        4.00847660e-02],\n",
       "       [2.42659483e-02, 1.65252644e-01, 2.30941690e-01, 5.23536762e-01,\n",
       "        5.60029564e-02],\n",
       "       [2.53308987e-01, 9.64108448e-02, 1.12672969e-01, 4.64205267e-01,\n",
       "        7.34019327e-02],\n",
       "       [2.31956989e-01, 1.00570777e-01, 1.18487875e-01, 4.75164416e-01,\n",
       "        7.38199423e-02],\n",
       "       [6.55070747e-06, 2.31409979e-01, 5.49598030e-01, 2.11873672e-01,\n",
       "        7.11176909e-03],\n",
       "       [7.70280313e-03, 1.84124950e-01, 2.78146381e-01, 4.86157395e-01,\n",
       "        4.38684716e-02],\n",
       "       [2.45155918e-01, 9.79802552e-02, 1.14854499e-01, 4.68428397e-01,\n",
       "        7.35809315e-02],\n",
       "       [1.91816761e-01, 1.08889837e-01, 1.30450326e-01, 4.94738143e-01,\n",
       "        7.41049320e-02],\n",
       "       [2.53308987e-01, 9.64108448e-02, 1.12672969e-01, 4.64205267e-01,\n",
       "        7.34019327e-02],\n",
       "       [2.27047189e-01, 1.01551111e-01, 1.19873720e-01, 4.77636034e-01,\n",
       "        7.38919450e-02],\n",
       "       [1.58166233e-01, 1.16517906e-01, 1.41862304e-01, 5.09749225e-01,\n",
       "        7.37043318e-02]])"
      ]
     },
     "execution_count": 9,
     "metadata": {},
     "output_type": "execute_result"
    }
   ],
   "source": [
    "y_predicted = model.predict(X_test)\n",
    "\n",
    "model.predict_proba(X_test)"
   ]
  },
  {
   "cell_type": "code",
   "execution_count": 10,
   "id": "b7f0239d",
   "metadata": {},
   "outputs": [
    {
     "data": {
      "text/plain": [
       "0.46153846153846156"
      ]
     },
     "execution_count": 10,
     "metadata": {},
     "output_type": "execute_result"
    }
   ],
   "source": [
    "model.score(X_test,y_test)"
   ]
  },
  {
   "cell_type": "code",
   "execution_count": 11,
   "id": "f16c0174",
   "metadata": {},
   "outputs": [
    {
     "data": {
      "text/plain": [
       "array(['Europe', 'Europe', 'Europe', 'Europe', 'Europe', 'Europe',\n",
       "       'Asia-Pacific', 'Europe', 'Europe', 'Europe', 'Europe', 'Europe',\n",
       "       'Europe'], dtype=object)"
      ]
     },
     "execution_count": 11,
     "metadata": {},
     "output_type": "execute_result"
    }
   ],
   "source": [
    "y_predicted"
   ]
  },
  {
   "cell_type": "code",
   "execution_count": 12,
   "id": "345b5169",
   "metadata": {},
   "outputs": [
    {
     "data": {
      "text/plain": [
       "array([[-0.10768389],\n",
       "       [ 0.04038555],\n",
       "       [ 0.04956517],\n",
       "       [ 0.01889806],\n",
       "       [-0.00116489]])"
      ]
     },
     "execution_count": 12,
     "metadata": {},
     "output_type": "execute_result"
    }
   ],
   "source": [
    "model.coef_"
   ]
  },
  {
   "cell_type": "code",
   "execution_count": 13,
   "id": "eebe01fe",
   "metadata": {},
   "outputs": [
    {
     "data": {
      "text/plain": [
       "array([ 0.48181096, -0.48418038, -0.32830954,  1.08752777, -0.75684881])"
      ]
     },
     "execution_count": 13,
     "metadata": {},
     "output_type": "execute_result"
    }
   ],
   "source": [
    "model.intercept_"
   ]
  },
  {
   "cell_type": "markdown",
   "id": "de2a13c1",
   "metadata": {},
   "source": [
    "## DECISION TREE"
   ]
  },
  {
   "cell_type": "code",
   "execution_count": 14,
   "id": "9ab423ef",
   "metadata": {},
   "outputs": [],
   "source": [
    "##DECISION TREE\n",
    "from sklearn.tree import DecisionTreeClassifier"
   ]
  },
  {
   "cell_type": "code",
   "execution_count": 101,
   "id": "7bf0c358",
   "metadata": {},
   "outputs": [
    {
     "data": {
      "text/html": [
       "<div>\n",
       "<style scoped>\n",
       "    .dataframe tbody tr th:only-of-type {\n",
       "        vertical-align: middle;\n",
       "    }\n",
       "\n",
       "    .dataframe tbody tr th {\n",
       "        vertical-align: top;\n",
       "    }\n",
       "\n",
       "    .dataframe thead th {\n",
       "        text-align: right;\n",
       "    }\n",
       "</style>\n",
       "<table border=\"1\" class=\"dataframe\">\n",
       "  <thead>\n",
       "    <tr style=\"text-align: right;\">\n",
       "      <th></th>\n",
       "      <th>Country</th>\n",
       "      <th>Talent</th>\n",
       "      <th>Infrastructure</th>\n",
       "      <th>Operating Environment</th>\n",
       "      <th>Research</th>\n",
       "      <th>Development</th>\n",
       "      <th>Government Strategy</th>\n",
       "      <th>Commercial</th>\n",
       "      <th>Total score</th>\n",
       "      <th>Region</th>\n",
       "      <th>Cluster</th>\n",
       "      <th>Income group</th>\n",
       "      <th>Political regime</th>\n",
       "    </tr>\n",
       "  </thead>\n",
       "  <tbody>\n",
       "    <tr>\n",
       "      <th>0</th>\n",
       "      <td>United States of America</td>\n",
       "      <td>100.00</td>\n",
       "      <td>94.02</td>\n",
       "      <td>64.56</td>\n",
       "      <td>100.00</td>\n",
       "      <td>100.00</td>\n",
       "      <td>77.39</td>\n",
       "      <td>100.00</td>\n",
       "      <td>100.00</td>\n",
       "      <td>Americas</td>\n",
       "      <td>Power players</td>\n",
       "      <td>High</td>\n",
       "      <td>Liberal democracy</td>\n",
       "    </tr>\n",
       "    <tr>\n",
       "      <th>1</th>\n",
       "      <td>China</td>\n",
       "      <td>16.51</td>\n",
       "      <td>100.00</td>\n",
       "      <td>91.57</td>\n",
       "      <td>71.42</td>\n",
       "      <td>79.97</td>\n",
       "      <td>94.87</td>\n",
       "      <td>44.02</td>\n",
       "      <td>62.92</td>\n",
       "      <td>Asia-Pacific</td>\n",
       "      <td>Power players</td>\n",
       "      <td>Upper middle</td>\n",
       "      <td>Closed autocracy</td>\n",
       "    </tr>\n",
       "    <tr>\n",
       "      <th>2</th>\n",
       "      <td>United Kingdom</td>\n",
       "      <td>39.65</td>\n",
       "      <td>71.43</td>\n",
       "      <td>74.65</td>\n",
       "      <td>36.50</td>\n",
       "      <td>25.03</td>\n",
       "      <td>82.82</td>\n",
       "      <td>18.91</td>\n",
       "      <td>40.93</td>\n",
       "      <td>Europe</td>\n",
       "      <td>Traditional champions</td>\n",
       "      <td>High</td>\n",
       "      <td>Liberal democracy</td>\n",
       "    </tr>\n",
       "    <tr>\n",
       "      <th>3</th>\n",
       "      <td>Canada</td>\n",
       "      <td>31.28</td>\n",
       "      <td>77.05</td>\n",
       "      <td>93.94</td>\n",
       "      <td>30.67</td>\n",
       "      <td>25.78</td>\n",
       "      <td>100.00</td>\n",
       "      <td>14.88</td>\n",
       "      <td>40.19</td>\n",
       "      <td>Americas</td>\n",
       "      <td>Traditional champions</td>\n",
       "      <td>High</td>\n",
       "      <td>Liberal democracy</td>\n",
       "    </tr>\n",
       "    <tr>\n",
       "      <th>4</th>\n",
       "      <td>Israel</td>\n",
       "      <td>35.76</td>\n",
       "      <td>67.58</td>\n",
       "      <td>82.44</td>\n",
       "      <td>32.63</td>\n",
       "      <td>27.96</td>\n",
       "      <td>43.91</td>\n",
       "      <td>27.33</td>\n",
       "      <td>39.89</td>\n",
       "      <td>Middle East</td>\n",
       "      <td>Rising stars</td>\n",
       "      <td>High</td>\n",
       "      <td>Liberal democracy</td>\n",
       "    </tr>\n",
       "  </tbody>\n",
       "</table>\n",
       "</div>"
      ],
      "text/plain": [
       "                    Country  Talent  Infrastructure  Operating Environment  \\\n",
       "0  United States of America  100.00           94.02                  64.56   \n",
       "1                     China   16.51          100.00                  91.57   \n",
       "2            United Kingdom   39.65           71.43                  74.65   \n",
       "3                    Canada   31.28           77.05                  93.94   \n",
       "4                    Israel   35.76           67.58                  82.44   \n",
       "\n",
       "   Research  Development  Government Strategy  Commercial  Total score  \\\n",
       "0    100.00       100.00                77.39      100.00       100.00   \n",
       "1     71.42        79.97                94.87       44.02        62.92   \n",
       "2     36.50        25.03                82.82       18.91        40.93   \n",
       "3     30.67        25.78               100.00       14.88        40.19   \n",
       "4     32.63        27.96                43.91       27.33        39.89   \n",
       "\n",
       "         Region                Cluster  Income group   Political regime  \n",
       "0      Americas          Power players          High  Liberal democracy  \n",
       "1  Asia-Pacific          Power players  Upper middle   Closed autocracy  \n",
       "2        Europe  Traditional champions          High  Liberal democracy  \n",
       "3      Americas  Traditional champions          High  Liberal democracy  \n",
       "4   Middle East           Rising stars          High  Liberal democracy  "
      ]
     },
     "execution_count": 101,
     "metadata": {},
     "output_type": "execute_result"
    }
   ],
   "source": [
    "df.head()"
   ]
  },
  {
   "cell_type": "code",
   "execution_count": 100,
   "id": "6b17523b",
   "metadata": {},
   "outputs": [
    {
     "name": "stdout",
     "output_type": "stream",
     "text": [
      "<class 'pandas.core.frame.DataFrame'>\n",
      "RangeIndex: 62 entries, 0 to 61\n",
      "Data columns (total 13 columns):\n",
      " #   Column                 Non-Null Count  Dtype  \n",
      "---  ------                 --------------  -----  \n",
      " 0   Country                62 non-null     object \n",
      " 1   Talent                 62 non-null     float64\n",
      " 2   Infrastructure         62 non-null     float64\n",
      " 3   Operating Environment  62 non-null     float64\n",
      " 4   Research               62 non-null     float64\n",
      " 5   Development            62 non-null     float64\n",
      " 6   Government Strategy    62 non-null     float64\n",
      " 7   Commercial             62 non-null     float64\n",
      " 8   Total score            62 non-null     float64\n",
      " 9   Region                 62 non-null     object \n",
      " 10  Cluster                62 non-null     object \n",
      " 11  Income group           62 non-null     object \n",
      " 12  Political regime       62 non-null     object \n",
      "dtypes: float64(8), object(5)\n",
      "memory usage: 6.4+ KB\n",
      "None\n"
     ]
    }
   ],
   "source": [
    "print(df.info())\n"
   ]
  },
  {
   "cell_type": "code",
   "execution_count": 99,
   "id": "a3123164",
   "metadata": {},
   "outputs": [
    {
     "name": "stdout",
     "output_type": "stream",
     "text": [
      "(62, 13)\n"
     ]
    }
   ],
   "source": [
    "print(df.shape)"
   ]
  },
  {
   "cell_type": "code",
   "execution_count": 15,
   "id": "c0bb95cd",
   "metadata": {},
   "outputs": [],
   "source": [
    "tree_clf = DecisionTreeClassifier()"
   ]
  },
  {
   "cell_type": "code",
   "execution_count": 16,
   "id": "564b2e84",
   "metadata": {},
   "outputs": [
    {
     "data": {
      "text/plain": [
       "DecisionTreeClassifier()"
      ]
     },
     "execution_count": 16,
     "metadata": {},
     "output_type": "execute_result"
    }
   ],
   "source": [
    "tree_clf.fit(X_train, y_train)\n"
   ]
  },
  {
   "cell_type": "code",
   "execution_count": 17,
   "id": "582dbeab",
   "metadata": {},
   "outputs": [],
   "source": [
    "tree_clf_preds = tree_clf.predict(X_test)"
   ]
  },
  {
   "cell_type": "code",
   "execution_count": 18,
   "id": "420999b9",
   "metadata": {},
   "outputs": [
    {
     "data": {
      "text/plain": [
       "array(['Americas', 'Americas', 'Asia-Pacific', 'Europe', 'Africa',\n",
       "       'Americas', 'Asia-Pacific', 'Americas', 'Europe', 'Europe',\n",
       "       'Africa', 'Europe', 'Europe'], dtype=object)"
      ]
     },
     "execution_count": 18,
     "metadata": {},
     "output_type": "execute_result"
    }
   ],
   "source": [
    "\n",
    "tree_clf.predict(X_test)"
   ]
  },
  {
   "cell_type": "code",
   "execution_count": 19,
   "id": "7350ab3e",
   "metadata": {},
   "outputs": [
    {
     "data": {
      "text/plain": [
       "1.0"
      ]
     },
     "execution_count": 19,
     "metadata": {},
     "output_type": "execute_result"
    }
   ],
   "source": [
    "tree_clf.score(X_train, y_train)"
   ]
  },
  {
   "cell_type": "code",
   "execution_count": 20,
   "id": "be3a473b",
   "metadata": {},
   "outputs": [
    {
     "data": {
      "text/plain": [
       "0.3076923076923077"
      ]
     },
     "execution_count": 20,
     "metadata": {},
     "output_type": "execute_result"
    }
   ],
   "source": [
    "accuracy_score(y_test, tree_clf_preds)"
   ]
  },
  {
   "cell_type": "code",
   "execution_count": 21,
   "id": "bbe01d3d",
   "metadata": {},
   "outputs": [
    {
     "data": {
      "text/plain": [
       "<BarContainer object of 62 artists>"
      ]
     },
     "execution_count": 21,
     "metadata": {},
     "output_type": "execute_result"
    },
    {
     "data": {
      "image/png": "[encoded data removed]",
      "text/plain": [
       "<Figure size 640x480 with 1 Axes>"
      ]
     },
     "metadata": {},
     "output_type": "display_data"
    }
   ],
   "source": [
    "plt.bar(df.Development,df.Region,color='red')"
   ]
  },
  {
   "cell_type": "markdown",
   "id": "ed5525b4",
   "metadata": {},
   "source": [
    "##  Random Forest"
   ]
  },
  {
   "cell_type": "code",
   "execution_count": 318,
   "id": "9d15a0df",
   "metadata": {},
   "outputs": [],
   "source": [
    "from sklearn.ensemble import RandomForestClassifier\n",
    "import pandas as pd\n",
    "import matplotlib.pyplot as plt\n",
    "from sklearn.model_selection import train_test_split\n",
    "from sklearn.preprocessing import StandardScaler\n",
    "from sklearn.ensemble import RandomForestClassifier\n"
   ]
  },
  {
   "cell_type": "code",
   "execution_count": 319,
   "id": "dc6a39e9",
   "metadata": {},
   "outputs": [
    {
     "data": {
      "text/html": [
       "<div>\n",
       "<style scoped>\n",
       "    .dataframe tbody tr th:only-of-type {\n",
       "        vertical-align: middle;\n",
       "    }\n",
       "\n",
       "    .dataframe tbody tr th {\n",
       "        vertical-align: top;\n",
       "    }\n",
       "\n",
       "    .dataframe thead th {\n",
       "        text-align: right;\n",
       "    }\n",
       "</style>\n",
       "<table border=\"1\" class=\"dataframe\">\n",
       "  <thead>\n",
       "    <tr style=\"text-align: right;\">\n",
       "      <th></th>\n",
       "      <th>Country</th>\n",
       "      <th>Talent</th>\n",
       "      <th>Infrastructure</th>\n",
       "      <th>Operating Environment</th>\n",
       "      <th>Research</th>\n",
       "      <th>Development</th>\n",
       "      <th>Government Strategy</th>\n",
       "      <th>Commercial</th>\n",
       "      <th>Total score</th>\n",
       "      <th>Region</th>\n",
       "      <th>Cluster</th>\n",
       "      <th>Income group</th>\n",
       "      <th>Political regime</th>\n",
       "    </tr>\n",
       "  </thead>\n",
       "  <tbody>\n",
       "    <tr>\n",
       "      <th>0</th>\n",
       "      <td>United States of America</td>\n",
       "      <td>100.00</td>\n",
       "      <td>94.02</td>\n",
       "      <td>64.56</td>\n",
       "      <td>100.00</td>\n",
       "      <td>100.00</td>\n",
       "      <td>77.39</td>\n",
       "      <td>100.00</td>\n",
       "      <td>100.00</td>\n",
       "      <td>Americas</td>\n",
       "      <td>Power players</td>\n",
       "      <td>High</td>\n",
       "      <td>Liberal democracy</td>\n",
       "    </tr>\n",
       "    <tr>\n",
       "      <th>1</th>\n",
       "      <td>China</td>\n",
       "      <td>16.51</td>\n",
       "      <td>100.00</td>\n",
       "      <td>91.57</td>\n",
       "      <td>71.42</td>\n",
       "      <td>79.97</td>\n",
       "      <td>94.87</td>\n",
       "      <td>44.02</td>\n",
       "      <td>62.92</td>\n",
       "      <td>Asia-Pacific</td>\n",
       "      <td>Power players</td>\n",
       "      <td>Upper middle</td>\n",
       "      <td>Closed autocracy</td>\n",
       "    </tr>\n",
       "    <tr>\n",
       "      <th>2</th>\n",
       "      <td>United Kingdom</td>\n",
       "      <td>39.65</td>\n",
       "      <td>71.43</td>\n",
       "      <td>74.65</td>\n",
       "      <td>36.50</td>\n",
       "      <td>25.03</td>\n",
       "      <td>82.82</td>\n",
       "      <td>18.91</td>\n",
       "      <td>40.93</td>\n",
       "      <td>Europe</td>\n",
       "      <td>Traditional champions</td>\n",
       "      <td>High</td>\n",
       "      <td>Liberal democracy</td>\n",
       "    </tr>\n",
       "    <tr>\n",
       "      <th>3</th>\n",
       "      <td>Canada</td>\n",
       "      <td>31.28</td>\n",
       "      <td>77.05</td>\n",
       "      <td>93.94</td>\n",
       "      <td>30.67</td>\n",
       "      <td>25.78</td>\n",
       "      <td>100.00</td>\n",
       "      <td>14.88</td>\n",
       "      <td>40.19</td>\n",
       "      <td>Americas</td>\n",
       "      <td>Traditional champions</td>\n",
       "      <td>High</td>\n",
       "      <td>Liberal democracy</td>\n",
       "    </tr>\n",
       "    <tr>\n",
       "      <th>4</th>\n",
       "      <td>Israel</td>\n",
       "      <td>35.76</td>\n",
       "      <td>67.58</td>\n",
       "      <td>82.44</td>\n",
       "      <td>32.63</td>\n",
       "      <td>27.96</td>\n",
       "      <td>43.91</td>\n",
       "      <td>27.33</td>\n",
       "      <td>39.89</td>\n",
       "      <td>Middle East</td>\n",
       "      <td>Rising stars</td>\n",
       "      <td>High</td>\n",
       "      <td>Liberal democracy</td>\n",
       "    </tr>\n",
       "  </tbody>\n",
       "</table>\n",
       "</div>"
      ],
      "text/plain": [
       "                    Country  Talent  Infrastructure  Operating Environment  \\\n",
       "0  United States of America  100.00           94.02                  64.56   \n",
       "1                     China   16.51          100.00                  91.57   \n",
       "2            United Kingdom   39.65           71.43                  74.65   \n",
       "3                    Canada   31.28           77.05                  93.94   \n",
       "4                    Israel   35.76           67.58                  82.44   \n",
       "\n",
       "   Research  Development  Government Strategy  Commercial  Total score  \\\n",
       "0    100.00       100.00                77.39      100.00       100.00   \n",
       "1     71.42        79.97                94.87       44.02        62.92   \n",
       "2     36.50        25.03                82.82       18.91        40.93   \n",
       "3     30.67        25.78               100.00       14.88        40.19   \n",
       "4     32.63        27.96                43.91       27.33        39.89   \n",
       "\n",
       "         Region                Cluster  Income group   Political regime  \n",
       "0      Americas          Power players          High  Liberal democracy  \n",
       "1  Asia-Pacific          Power players  Upper middle   Closed autocracy  \n",
       "2        Europe  Traditional champions          High  Liberal democracy  \n",
       "3      Americas  Traditional champions          High  Liberal democracy  \n",
       "4   Middle East           Rising stars          High  Liberal democracy  "
      ]
     },
     "execution_count": 319,
     "metadata": {},
     "output_type": "execute_result"
    }
   ],
   "source": [
    "df.head()"
   ]
  },
  {
   "cell_type": "code",
   "execution_count": 320,
   "id": "7915a84e",
   "metadata": {},
   "outputs": [
    {
     "name": "stdout",
     "output_type": "stream",
     "text": [
      "<class 'pandas.core.frame.DataFrame'>\n",
      "RangeIndex: 62 entries, 0 to 61\n",
      "Data columns (total 13 columns):\n",
      " #   Column                 Non-Null Count  Dtype  \n",
      "---  ------                 --------------  -----  \n",
      " 0   Country                62 non-null     object \n",
      " 1   Talent                 62 non-null     float64\n",
      " 2   Infrastructure         62 non-null     float64\n",
      " 3   Operating Environment  62 non-null     float64\n",
      " 4   Research               62 non-null     float64\n",
      " 5   Development            62 non-null     float64\n",
      " 6   Government Strategy    62 non-null     float64\n",
      " 7   Commercial             62 non-null     float64\n",
      " 8   Total score            62 non-null     float64\n",
      " 9   Region                 62 non-null     object \n",
      " 10  Cluster                62 non-null     object \n",
      " 11  Income group           62 non-null     object \n",
      " 12  Political regime       62 non-null     object \n",
      "dtypes: float64(8), object(5)\n",
      "memory usage: 6.4+ KB\n"
     ]
    }
   ],
   "source": [
    "df.info()"
   ]
  },
  {
   "cell_type": "code",
   "execution_count": 321,
   "id": "81828b1f",
   "metadata": {},
   "outputs": [
    {
     "data": {
      "text/plain": [
       "(62, 13)"
      ]
     },
     "execution_count": 321,
     "metadata": {},
     "output_type": "execute_result"
    }
   ],
   "source": [
    "(df.shape)"
   ]
  },
  {
   "cell_type": "code",
   "execution_count": 322,
   "id": "8881d091",
   "metadata": {},
   "outputs": [
    {
     "data": {
      "text/plain": [
       "RandomForestClassifier()"
      ]
     },
     "execution_count": 322,
     "metadata": {},
     "output_type": "execute_result"
    }
   ],
   "source": [
    "RandomForestClassifier()"
   ]
  },
  {
   "cell_type": "code",
   "execution_count": 329,
   "id": "17a4a5a6",
   "metadata": {},
   "outputs": [],
   "source": [
    "dataset = pd.read_csv('AIGLOBALINDEX.csv')\n"
   ]
  },
  {
   "cell_type": "code",
   "execution_count": 330,
   "id": "db27db80",
   "metadata": {},
   "outputs": [],
   "source": [
    "# Split the data into features (X) and target variable (y)\n",
    "X = dataset.drop(['Country', 'Region', 'Cluster', 'Income group', 'Political regime'], axis=1)\n",
    "y = dataset['Cluster']"
   ]
  },
  {
   "cell_type": "code",
   "execution_count": 331,
   "id": "053301f9",
   "metadata": {},
   "outputs": [],
   "source": [
    "# Split the data into training and testing sets\n",
    "X_train, X_test, y_train, y_test = train_test_split(X, y, test_size=0.2, random_state=42)"
   ]
  },
  {
   "cell_type": "code",
   "execution_count": 332,
   "id": "cd1b025f",
   "metadata": {},
   "outputs": [
    {
     "data": {
      "text/plain": [
       "RandomForestClassifier()"
      ]
     },
     "execution_count": 332,
     "metadata": {},
     "output_type": "execute_result"
    }
   ],
   "source": [
    "RandomForestClassifier(n_estimators = 100)  "
   ]
  },
  {
   "cell_type": "code",
   "execution_count": 333,
   "id": "1b21c656",
   "metadata": {},
   "outputs": [],
   "source": [
    "rf_clf = RandomForestClassifier()"
   ]
  },
  {
   "cell_type": "code",
   "execution_count": 334,
   "id": "7b6bbc04",
   "metadata": {},
   "outputs": [
    {
     "data": {
      "text/plain": [
       "RandomForestClassifier()"
      ]
     },
     "execution_count": 334,
     "metadata": {},
     "output_type": "execute_result"
    }
   ],
   "source": [
    "rf_clf.fit(X_train, y_train)"
   ]
  },
  {
   "cell_type": "code",
   "execution_count": 336,
   "id": "cb43ddbc",
   "metadata": {},
   "outputs": [
    {
     "data": {
      "text/plain": [
       "RandomForestClassifier()"
      ]
     },
     "execution_count": 336,
     "metadata": {},
     "output_type": "execute_result"
    }
   ],
   "source": [
    "rf_clf.fit(X_train, y_train)"
   ]
  },
  {
   "cell_type": "code",
   "execution_count": 343,
   "id": "3011561f",
   "metadata": {},
   "outputs": [
    {
     "name": "stdout",
     "output_type": "stream",
     "text": [
      "['Waking up' 'Waking up' 'Rising stars' 'Waking up'\n",
      " 'Traditional champions' 'Waking up' 'Rising stars' 'Rising stars'\n",
      " 'Waking up' 'Nascent' 'Waking up' 'Rising stars' 'Waking up']\n"
     ]
    }
   ],
   "source": [
    "rf_clf_preds = rf_clf.predict(X_test)\n",
    "print(rf_clf_preds)"
   ]
  },
  {
   "cell_type": "code",
   "execution_count": 344,
   "id": "0216e38f",
   "metadata": {},
   "outputs": [
    {
     "name": "stdout",
     "output_type": "stream",
     "text": [
      "Random Forest - Accuracy: 0.6153846153846154\n"
     ]
    }
   ],
   "source": [
    "rf_clf_accuracy = accuracy_score(y_test, rf_clf_preds)\n",
    "print(\"Random Forest - Accuracy:\", rf_clf_accuracy)"
   ]
  },
  {
   "cell_type": "code",
   "execution_count": 345,
   "id": "78f72100",
   "metadata": {},
   "outputs": [
    {
     "name": "stdout",
     "output_type": "stream",
     "text": [
      "Random Forest - Precision: 0.6538461538461539\n"
     ]
    },
    {
     "name": "stderr",
     "output_type": "stream",
     "text": [
      "C:\\Users\\nishi\\anaconda3\\lib\\site-packages\\sklearn\\metrics\\_classification.py:1318: UndefinedMetricWarning: Precision is ill-defined and being set to 0.0 in labels with no predicted samples. Use `zero_division` parameter to control this behavior.\n",
      "  _warn_prf(average, modifier, msg_start, len(result))\n"
     ]
    }
   ],
   "source": [
    "rf_clf_precision = precision_score(y_test, rf_clf_preds, average='weighted')\n",
    "print(\"Random Forest - Precision:\", rf_clf_precision)"
   ]
  },
  {
   "cell_type": "code",
   "execution_count": 346,
   "id": "e60837bf",
   "metadata": {},
   "outputs": [
    {
     "name": "stdout",
     "output_type": "stream",
     "text": [
      "Random Forest - Recall: 0.6153846153846154\n"
     ]
    }
   ],
   "source": [
    "rf_clf_recall = recall_score(y_test, rf_clf_preds, average='weighted')\n",
    "print(\"Random Forest - Recall:\", rf_clf_recall)"
   ]
  },
  {
   "cell_type": "code",
   "execution_count": 347,
   "id": "4c43c678",
   "metadata": {},
   "outputs": [
    {
     "name": "stdout",
     "output_type": "stream",
     "text": [
      "Random Forest - F1-score: 0.6153846153846154\n"
     ]
    }
   ],
   "source": [
    "rf_clf_f1 = f1_score(y_test, rf_clf_preds, average='weighted')\n",
    "print(\"Random Forest - F1-score:\", rf_clf_f1)"
   ]
  },
  {
   "cell_type": "code",
   "execution_count": 354,
   "id": "2195aa24",
   "metadata": {},
   "outputs": [
    {
     "data": {
      "text/plain": [
       "Region\n",
       "Americas       NaN\n",
       "Asia-Pacific   NaN\n",
       "Europe         NaN\n",
       "Americas       NaN\n",
       "Middle East    NaN\n",
       "                ..\n",
       "Asia-Pacific   NaN\n",
       "Middle East    NaN\n",
       "Africa         NaN\n",
       "Africa         NaN\n",
       "Asia-Pacific   NaN\n",
       "Name: Development, Length: 62, dtype: float64"
      ]
     },
     "execution_count": 354,
     "metadata": {},
     "output_type": "execute_result"
    }
   ],
   "source": [
    "feature_imp = pd.Series(df.Development, index = df.Region).sort_values(ascending = False)\n",
    "feature_imp"
   ]
  },
  {
   "cell_type": "code",
   "execution_count": 355,
   "id": "0fd152b5",
   "metadata": {},
   "outputs": [],
   "source": [
    "# Split the data into features (X) and target variable (y)\n",
    "X = dataset.drop(['Country', 'Region', 'Cluster', 'Income group', 'Political regime'], axis=1)\n",
    "y = dataset['Cluster']\n"
   ]
  },
  {
   "cell_type": "code",
   "execution_count": 356,
   "id": "f26f2972",
   "metadata": {},
   "outputs": [],
   "source": [
    "X_train, X_test, y_train, y_test = train_test_split(X, y, test_size=0.2, random_state=42)\n"
   ]
  },
  {
   "cell_type": "code",
   "execution_count": 357,
   "id": "b05055a0",
   "metadata": {},
   "outputs": [],
   "source": [
    "\n",
    "# Standardize the features\n",
    "scaler = StandardScaler()\n",
    "X_train_scaled = scaler.fit_transform(X_train)\n",
    "X_test_scaled = scaler.transform(X_test)"
   ]
  },
  {
   "cell_type": "code",
   "execution_count": 358,
   "id": "60be12a0",
   "metadata": {},
   "outputs": [],
   "source": [
    "\n",
    "# Define a list of values for n_estimators\n",
    "n_estimators = [50, 100, 150, 200, 250, 300]"
   ]
  },
  {
   "cell_type": "code",
   "execution_count": 359,
   "id": "e6e326a3",
   "metadata": {},
   "outputs": [],
   "source": [
    "# Initialize lists to store accuracies for each value of n_estimators\n",
    "train_accs = []\n",
    "test_accs = []\n"
   ]
  },
  {
   "cell_type": "code",
   "execution_count": 360,
   "id": "ee7b5083",
   "metadata": {},
   "outputs": [],
   "source": [
    "# Train and evaluate the Random Forest model for each value of n_estimators\n",
    "for n in n_estimators:\n",
    "    rf = RandomForestClassifier(n_estimators=n, random_state=42)\n",
    "    rf.fit(X_train_scaled, y_train)\n",
    "    train_acc = rf.score(X_train_scaled, y_train)\n",
    "    test_acc = rf.score(X_test_scaled, y_test)\n",
    "    train_accs.append(train_acc)\n",
    "    test_accs.append(test_acc)\n"
   ]
  },
  {
   "cell_type": "code",
   "execution_count": 361,
   "id": "208f39aa",
   "metadata": {},
   "outputs": [
    {
     "data": {
      "image/png": "[encoded data removed]",
      "text/plain": [
       "<Figure size 640x480 with 1 Axes>"
      ]
     },
     "metadata": {},
     "output_type": "display_data"
    }
   ],
   "source": [
    "# Plot the accuracy graph\n",
    "plt.plot(n_estimators, train_accs, label='Train Accuracy')\n",
    "plt.plot(n_estimators, test_accs, label='Test Accuracy')\n",
    "plt.xlabel('Number of Estimators')\n",
    "plt.ylabel('Accuracy')\n",
    "plt.title('Random Forest Accuracy vs Number of Estimators')\n",
    "plt.legend()\n",
    "plt.show()"
   ]
  },
  {
   "cell_type": "markdown",
   "id": "b71eee5c",
   "metadata": {},
   "source": [
    "## K-Nearest Neighbors"
   ]
  },
  {
   "cell_type": "code",
   "execution_count": 264,
   "id": "7e77d8e5",
   "metadata": {},
   "outputs": [],
   "source": [
    "import pandas as pd\n",
    "from sklearn.model_selection import train_test_split\n",
    "from sklearn.preprocessing import StandardScaler\n",
    "from sklearn.neighbors import KNeighborsClassifier\n",
    "from sklearn.metrics import accuracy_score, precision_score, recall_score, f1_score "
   ]
  },
  {
   "cell_type": "code",
   "execution_count": 265,
   "id": "8affe475",
   "metadata": {},
   "outputs": [
    {
     "name": "stdout",
     "output_type": "stream",
     "text": [
      "<class 'pandas.core.frame.DataFrame'>\n",
      "RangeIndex: 62 entries, 0 to 61\n",
      "Data columns (total 13 columns):\n",
      " #   Column                 Non-Null Count  Dtype  \n",
      "---  ------                 --------------  -----  \n",
      " 0   Country                62 non-null     object \n",
      " 1   Talent                 62 non-null     float64\n",
      " 2   Infrastructure         62 non-null     float64\n",
      " 3   Operating Environment  62 non-null     float64\n",
      " 4   Research               62 non-null     float64\n",
      " 5   Development            62 non-null     float64\n",
      " 6   Government Strategy    62 non-null     float64\n",
      " 7   Commercial             62 non-null     float64\n",
      " 8   Total score            62 non-null     float64\n",
      " 9   Region                 62 non-null     object \n",
      " 10  Cluster                62 non-null     object \n",
      " 11  Income group           62 non-null     object \n",
      " 12  Political regime       62 non-null     object \n",
      "dtypes: float64(8), object(5)\n",
      "memory usage: 6.4+ KB\n",
      "None\n"
     ]
    }
   ],
   "source": [
    "print(df.info())\n"
   ]
  },
  {
   "cell_type": "code",
   "execution_count": 266,
   "id": "5f13065d",
   "metadata": {},
   "outputs": [
    {
     "name": "stdout",
     "output_type": "stream",
     "text": [
      "(62, 13)\n"
     ]
    }
   ],
   "source": [
    "print(df.shape)"
   ]
  },
  {
   "cell_type": "code",
   "execution_count": 267,
   "id": "3e5c5d05",
   "metadata": {},
   "outputs": [
    {
     "name": "stdout",
     "output_type": "stream",
     "text": [
      "                    Country  Talent  Infrastructure  Operating Environment  \\\n",
      "0  United States of America  100.00           94.02                  64.56   \n",
      "1                     China   16.51          100.00                  91.57   \n",
      "2            United Kingdom   39.65           71.43                  74.65   \n",
      "3                    Canada   31.28           77.05                  93.94   \n",
      "4                    Israel   35.76           67.58                  82.44   \n",
      "\n",
      "   Research  Development  Government Strategy  Commercial  Total score  \\\n",
      "0    100.00       100.00                77.39      100.00       100.00   \n",
      "1     71.42        79.97                94.87       44.02        62.92   \n",
      "2     36.50        25.03                82.82       18.91        40.93   \n",
      "3     30.67        25.78               100.00       14.88        40.19   \n",
      "4     32.63        27.96                43.91       27.33        39.89   \n",
      "\n",
      "         Region                Cluster  Income group   Political regime  \n",
      "0      Americas          Power players          High  Liberal democracy  \n",
      "1  Asia-Pacific          Power players  Upper middle   Closed autocracy  \n",
      "2        Europe  Traditional champions          High  Liberal democracy  \n",
      "3      Americas  Traditional champions          High  Liberal democracy  \n",
      "4   Middle East           Rising stars          High  Liberal democracy  \n"
     ]
    }
   ],
   "source": [
    "print(df.head())"
   ]
  },
  {
   "cell_type": "code",
   "execution_count": 268,
   "id": "f74b74c8",
   "metadata": {},
   "outputs": [
    {
     "data": {
      "text/plain": [
       "Country                  0\n",
       "Talent                   0\n",
       "Infrastructure           0\n",
       "Operating Environment    0\n",
       "Research                 0\n",
       "Development              0\n",
       "Government Strategy      0\n",
       "Commercial               0\n",
       "Total score              0\n",
       "Region                   0\n",
       "Cluster                  0\n",
       "Income group             0\n",
       "Political regime         0\n",
       "dtype: int64"
      ]
     },
     "execution_count": 268,
     "metadata": {},
     "output_type": "execute_result"
    }
   ],
   "source": [
    "df.isnull().sum()"
   ]
  },
  {
   "cell_type": "code",
   "execution_count": 269,
   "id": "dcc91745",
   "metadata": {},
   "outputs": [
    {
     "name": "stderr",
     "output_type": "stream",
     "text": [
      "C:\\Users\\nishi\\anaconda3\\lib\\site-packages\\seaborn\\_decorators.py:36: FutureWarning: Pass the following variable as a keyword arg: x. From version 0.12, the only valid positional argument will be `data`, and passing other arguments without an explicit keyword will result in an error or misinterpretation.\n",
      "  warnings.warn(\n"
     ]
    },
    {
     "data": {
      "text/plain": [
       "<AxesSubplot:xlabel='Region', ylabel='count'>"
      ]
     },
     "execution_count": 269,
     "metadata": {},
     "output_type": "execute_result"
    },
    {
     "data": {
      "image/png": "[encoded data removed]",
      "text/plain": [
       "<Figure size 640x480 with 1 Axes>"
      ]
     },
     "metadata": {},
     "output_type": "display_data"
    }
   ],
   "source": [
    "sns.countplot(df['Region'])"
   ]
  },
  {
   "cell_type": "code",
   "execution_count": 271,
   "id": "309a2369",
   "metadata": {},
   "outputs": [],
   "source": [
    "# Load the dataset\n",
    "dataset = pd.read_csv('AIGLOBALINDEX.csv')"
   ]
  },
  {
   "cell_type": "code",
   "execution_count": 272,
   "id": "87625092",
   "metadata": {},
   "outputs": [],
   "source": [
    "# Split the data into features (X) and target variable (y)\n",
    "X = dataset.drop(['Country', 'Region', 'Cluster', 'Income group', 'Political regime'], axis=1)\n",
    "y = dataset['Cluster']"
   ]
  },
  {
   "cell_type": "code",
   "execution_count": 273,
   "id": "e9cf484e",
   "metadata": {},
   "outputs": [],
   "source": [
    "# Split the data into training and testing sets\n",
    "X_train, X_test, y_train, y_test = train_test_split(X, y, test_size=0.2, random_state=42)"
   ]
  },
  {
   "cell_type": "code",
   "execution_count": 274,
   "id": "3ea8d589",
   "metadata": {},
   "outputs": [],
   "source": [
    "# Standardize the features\n",
    "scaler = StandardScaler()\n",
    "X_train_scaled = scaler.fit_transform(X_train)\n",
    "X_test_scaled = scaler.transform(X_test)"
   ]
  },
  {
   "cell_type": "code",
   "execution_count": 275,
   "id": "75df726a",
   "metadata": {},
   "outputs": [
    {
     "data": {
      "text/plain": [
       "array([[ 1.20346911e+00,  4.63607511e-01,  8.92388250e-01,\n",
       "         7.28421133e-01, -2.91878503e-01,  6.71254224e-01,\n",
       "        -1.81466899e-01,  6.66160599e-01],\n",
       "       [-1.32142318e+00,  7.30894556e-01,  2.28029459e-01,\n",
       "        -7.66858315e-01,  9.47739647e-02,  9.56635220e-01,\n",
       "        -2.13063742e-01, -1.84481851e-01],\n",
       "       [-2.06831087e-01, -5.62342220e-02,  6.55582140e-01,\n",
       "        -4.92580523e-01, -5.84353895e-01,  5.29960696e-01,\n",
       "        -3.67098348e-01, -2.09036478e-01],\n",
       "       [ 1.63875971e+00,  6.19875725e-01,  1.32044158e+00,\n",
       "         1.06213771e+00,  6.94348517e-01,  1.69982321e+00,\n",
       "         1.32201618e+00,  1.48347891e+00],\n",
       "       [ 1.05458111e+00,  6.92485198e-01, -1.17278132e+00,\n",
       "         1.60424813e+00,  5.38166658e-01, -1.80537386e+00,\n",
       "         3.84643193e-01,  6.11789638e-01],\n",
       "       [-1.11877007e+00, -1.02804362e+00, -4.57356513e-01,\n",
       "        -1.07479422e+00, -3.73771613e-01, -2.29151939e+00,\n",
       "        -3.69731418e-01, -1.18946767e+00],\n",
       "       [ 1.26137000e+00,  6.28820370e-01,  1.32906497e-01,\n",
       "         1.43237693e+00,  6.36438390e-01,  1.08715212e+00,\n",
       "         4.54419554e-01,  1.11954425e+00],\n",
       "       [-9.20632556e-02,  1.05027101e+00,  6.48184822e-02,\n",
       "         7.74969583e-01,  3.70509020e+00,  1.20090539e+00,\n",
       "         7.52574452e-02,  1.34404371e+00],\n",
       "       [-3.07123696e-01, -1.40945274e-01, -7.36717633e-01,\n",
       "        -1.16612271e-01,  3.25829524e-01,  1.31665432e+00,\n",
       "        -4.55306200e-01, -1.12571871e-01],\n",
       "       [ 2.10196681e+00,  1.21606371e-01,  7.44697335e-01,\n",
       "         1.20249920e+00,  8.21867788e-01, -5.38920853e-01,\n",
       "         2.96110238e+00,  1.45717038e+00],\n",
       "       [-7.26905133e-01, -4.79789481e-01,  4.19777324e-01,\n",
       "        -1.04471676e+00, -6.27055302e-01, -9.86757638e-02,\n",
       "        -5.92225850e-01, -7.04513781e-01],\n",
       "       [ 2.20187961e-01,  1.62272830e+00, -4.03787266e-01,\n",
       "         1.12229263e+00, -3.08842076e-01, -9.62801437e-01,\n",
       "         6.07755591e-02,  5.11817226e-01],\n",
       "       [-1.02571507e+00, -9.33861764e-01, -8.20325710e-01,\n",
       "        -1.06405227e+00, -6.07751926e-01,  1.02887038e-01,\n",
       "        -5.17183350e-01, -1.03512430e+00],\n",
       "       [ 3.12209015e-01,  3.77844148e-01, -1.32047223e+00,\n",
       "         1.75568770e-01, -8.02540537e-01, -1.40743700e+00,\n",
       "         1.18703103e-01, -3.03747184e-01],\n",
       "       [-6.71072134e-01, -1.40371872e+00, -2.62604765e-01,\n",
       "        -8.54942305e-01, -8.13654602e-01, -1.80537386e+00,\n",
       "        -6.17240017e-01, -1.17543646e+00],\n",
       "       [-5.26319914e-01,  2.05265111e-01, -4.78383694e-01,\n",
       "        -8.25580975e-01, -4.97781179e-01, -9.58818240e-02,\n",
       "        -4.94802253e-01, -5.50170409e-01],\n",
       "       [-1.48065062e+00, -1.39056483e+00, -3.38263791e+00,\n",
       "        -9.85277966e-01, -7.23572181e-01,  4.51331247e-01,\n",
       "        -5.96175455e-01, -1.61741975e+00],\n",
       "       [-2.58908124e-02,  1.01607089e+00, -5.02414758e-01,\n",
       "         4.77775632e-01,  1.20267075e+00,  5.80650747e-01,\n",
       "         3.25399114e-01,  6.36344265e-01],\n",
       "       [-7.11395966e-01,  4.79982762e-03,  1.05860311e+00,\n",
       "        -9.21542395e-01, -7.93766275e-01, -5.72448131e-01,\n",
       "        -5.48780192e-01, -5.29123585e-01],\n",
       "       [-1.26183422e-01,  2.99446964e-01,  1.60180529e+00,\n",
       "        -3.75135203e-01, -2.81934340e-01,  8.27315720e-01,\n",
       "        -3.40767646e-01,  1.68929394e-01],\n",
       "       [-2.69247569e-02, -8.88021799e-03, -1.74490864e-01,\n",
       "         4.51994951e-01,  3.45132900e-01,  2.46176237e-01,\n",
       "         6.20920942e-02,  1.96991825e-01],\n",
       "       [ 1.25930211e+00,  5.75152499e-01, -1.54776604e+00,\n",
       "         3.82530341e-01, -2.04613396e-02,  6.53684171e-02,\n",
       "        -1.16956679e-01,  2.18915599e-01],\n",
       "       [-5.03573137e-01, -1.73566921e-01, -5.42466532e-01,\n",
       "        -1.02752964e+00, -7.74462899e-01,  1.23242885e-01,\n",
       "        -2.48610189e-01, -6.96621222e-01],\n",
       "       [ 1.49917721e+00,  1.27493945e+00,  1.29401967e-01,\n",
       "         6.81492695e-02,  9.90918565e-01,  4.80068913e-01,\n",
       "        -1.18273214e-01,  8.56458961e-01],\n",
       "       [ 4.54513529e-02,  9.74032133e-02,  1.69954387e-01,\n",
       "        -7.07419524e-01, -1.28092284e-01,  5.21978011e-01,\n",
       "        -7.08779509e-02, -1.24849184e-01],\n",
       "       [-1.24801312e+00, -1.07276684e+00, -3.70243906e-01,\n",
       "        -1.02967803e+00, -8.10729848e-01, -1.65689592e+00,\n",
       "        -6.23822693e-01, -1.26313155e+00],\n",
       "       [-1.41758001e+00, -1.23219199e+00,  1.47514155e+00,\n",
       "        -5.53451574e-01, -5.52766552e-01, -1.27812565e-01,\n",
       "        -5.34298306e-01, -6.83466958e-01],\n",
       "       [-1.16877922e-01, -1.09375938e-01,  6.56082787e-01,\n",
       "        -9.03639145e-01, -4.52155018e-01,  2.74115635e-01,\n",
       "        -4.03961331e-01, -3.23040105e-01],\n",
       "       [ 8.13672061e-01,  2.37360603e-01,  1.14070924e+00,\n",
       "        -2.58406012e-01, -4.65023935e-01, -3.90842042e-01,\n",
       "        -3.09170804e-01,  1.40866962e-01],\n",
       "       [-1.59541845e+00,  1.42126439e-01, -2.49587939e-01,\n",
       "        -2.79173782e-01, -8.13654602e-01, -9.54818752e-01,\n",
       "        -6.36988044e-01, -7.55376938e-01],\n",
       "       [ 1.11623796e-01,  1.82740283e+00,  1.20178820e+00,\n",
       "         3.98036748e+00,  3.86419681e+00,  1.49506734e+00,\n",
       "         5.15839946e+00,  3.47678849e+00],\n",
       "       [ 1.59185240e-01, -4.09757096e-02,  4.37299975e-01,\n",
       "         5.52969282e-01,  2.28142743e-01,  5.87835164e-01,\n",
       "        -2.31495233e-01,  3.17134109e-01],\n",
       "       [ 2.50417120e+00,  3.24176277e-01,  3.54693192e-01,\n",
       "         1.47964151e+00,  6.50477209e-01,  1.01411055e+00,\n",
       "         1.85257983e+00,  1.54837328e+00],\n",
       "       [-8.42706908e-01, -3.41936713e-01,  1.59440797e-01,\n",
       "        -1.08195552e+00, -7.98445881e-01, -1.05739626e+00,\n",
       "        -5.80377034e-01, -8.77273124e-01],\n",
       "       [-8.07552798e-01, -5.17146528e-01,  8.01771113e-01,\n",
       "        -5.14444411e-02, -6.84380479e-01, -1.40743700e+00,\n",
       "        -5.15866814e-01, -5.21231027e-01],\n",
       "       [-4.46706193e-01, -5.30772884e-02,  4.70843335e-01,\n",
       "        -3.27870622e-01, -6.55717890e-01,  5.13995325e-01,\n",
       "        -4.06594401e-01, -2.59899635e-01],\n",
       "       [-3.19531029e-01,  6.62494328e-01, -5.45470415e-01,\n",
       "         7.06937233e-01,  3.55662014e-01, -5.75649350e-02,\n",
       "        -3.03904663e-01,  2.20669501e-01],\n",
       "       [-1.31211768e+00, -3.43415318e+00, -8.74395604e-01,\n",
       "        -1.10200716e+00, -6.93154740e-01, -1.98219034e+00,\n",
       "        -5.93542385e-01, -1.91996784e+00],\n",
       "       [ 1.03390222e+00, -9.67482033e-02, -3.17175306e-01,\n",
       "         1.20249920e+00,  1.59341787e+00,  9.85772021e-01,\n",
       "         2.47723543e-01,  9.28368941e-01],\n",
       "       [ 3.42193403e-01, -8.51727801e-02,  1.05660052e+00,\n",
       "        -2.92780252e-01, -2.69065423e-01,  5.85440358e-01,\n",
       "         1.00999737e+00,  2.91702531e-01],\n",
       "       [ 1.32133877e+00,  5.22010783e-01, -3.98167757e-02,\n",
       "         8.43001933e-01,  2.28142743e-01, -6.81012649e-01,\n",
       "        -4.32307138e-02,  5.76711599e-01],\n",
       "       [-7.68262910e-01, -3.30629737e+00, -2.75783025e+00,\n",
       "        -9.78832796e-01, -7.49894966e-01, -1.73592450e+00,\n",
       "        -6.01441596e-01, -2.04098707e+00],\n",
       "       [ 2.25357683e-01,  4.23619686e-01,  3.90239141e-01,\n",
       "         1.97768800e-01, -1.77813100e-01,  1.35177814e+00,\n",
       "        -2.31495233e-01,  3.22395815e-01],\n",
       "       [ 1.90241554e+00,  8.79796591e-01,  1.02556040e+00,\n",
       "         6.94763023e-01,  9.51141911e-01,  1.97082723e-01,\n",
       "         1.73299008e-02,  1.14672973e+00],\n",
       "       [-5.15980470e-01, -1.69883832e-01,  2.84101942e-01,\n",
       "        -7.35348595e-01, -7.62178933e-01, -3.91640311e-01,\n",
       "        -5.54046332e-01, -5.79986742e-01],\n",
       "       [ 6.44105175e-01,  1.55801116e+00, -3.03044796e-02,\n",
       "         2.54343070e-01,  3.53322211e-01,  3.70306992e-01,\n",
       "        -2.08496171e-02,  6.53883285e-01],\n",
       "       [-2.49222808e-01,  3.57324080e-01,  1.35098106e+00,\n",
       "         2.33575300e-01, -7.51649819e-01,  9.16721794e-01,\n",
       "        -5.56679402e-01,  1.68052443e-01],\n",
       "       [-9.39897684e-01, -5.00309549e-01, -1.49970392e+00,\n",
       "        -9.88858616e-01, -7.96106078e-01,  4.56919126e-01,\n",
       "        -5.96175455e-01, -1.02197004e+00],\n",
       "       [-2.03729254e-01, -1.39892963e-01,  2.63074760e-01,\n",
       "        -7.88342215e-01, -5.17084555e-01,  4.11417821e-01,\n",
       "        -4.57939270e-01, -3.84426674e-01]])"
      ]
     },
     "execution_count": 275,
     "metadata": {},
     "output_type": "execute_result"
    }
   ],
   "source": [
    "X_train_scaled"
   ]
  },
  {
   "cell_type": "code",
   "execution_count": 276,
   "id": "0404e70c",
   "metadata": {},
   "outputs": [
    {
     "data": {
      "text/plain": [
       "array([[-1.07948018, -0.25669951, -0.33369666, -0.95305212, -0.8136546 ,\n",
       "        -1.58425348, -0.6053912 , -1.00706187],\n",
       "       [-0.90370963, -1.44318039, -0.45885845, -1.11418137, -0.79435123,\n",
       "        -1.71676605, -0.45662273, -1.29645569],\n",
       "       [ 8.7440258 ,  1.51276178, -0.1504598 ,  6.02706703,  5.03585323,\n",
       "         0.79738065, 12.52836295,  6.72852271],\n",
       "       [-0.9471353 , -1.61155018, -1.5908217 , -1.12563945, -0.75808428,\n",
       "        -0.87179883, -0.62513923, -1.46044552],\n",
       "       [ 2.4762547 ,  1.00133854, -1.22234538,  1.56342872,  0.50540941,\n",
       "         0.89437028,  1.34703035,  1.35018236],\n",
       "       [-1.08154807, -0.55082049, -0.26010153, -1.13423301, -0.76159398,\n",
       "         1.11269672, -0.57116129, -0.82640997],\n",
       "       [ 3.08524796, -1.64995954,  0.48736469,  0.22068496,  0.99150352,\n",
       "         0.05658746,  0.33593139,  0.6214361 ],\n",
       "       [ 0.98840867,  0.33312092,  0.56045918,  0.67113073,  0.25797523,\n",
       "         1.14063611, -0.02611576,  0.7091312 ],\n",
       "       [-1.1311774 ,  0.29102847,  1.62383376, -0.15814781,  0.02750462,\n",
       "         1.36574784, -0.01426694,  0.20400743],\n",
       "       [-1.51787262, -2.69174763, -1.88870676, -1.1292201 , -0.1029394 ,\n",
       "        -1.98219034, -0.59617546, -1.83928835],\n",
       "       [-0.44877408, -0.02676951,  0.78524976,  0.3195109 ,  0.04388325,\n",
       "         0.16036237, -0.28942278,  0.10315807],\n",
       "       [ 1.33271216,  0.62513728,  0.62354072,  0.69046624,  0.44047988,\n",
       "         1.34858506,  0.37016131,  0.9774782 ],\n",
       "       [-0.71759963, -1.29059526, -0.16147404, -0.45176111, -0.75398962,\n",
       "         0.4006412 , -0.51191721, -0.77905461]])"
      ]
     },
     "execution_count": 276,
     "metadata": {},
     "output_type": "execute_result"
    }
   ],
   "source": [
    "X_test_scaled\n"
   ]
  },
  {
   "cell_type": "code",
   "execution_count": 277,
   "id": "f7ba877f",
   "metadata": {},
   "outputs": [
    {
     "data": {
      "text/plain": [
       "KNeighborsClassifier()"
      ]
     },
     "execution_count": 277,
     "metadata": {},
     "output_type": "execute_result"
    }
   ],
   "source": [
    " #Initialize and train the KNN classifier\n",
    "knn = KNeighborsClassifier(n_neighbors=5)\n",
    "knn.fit(X_train_scaled, y_train)"
   ]
  },
  {
   "cell_type": "code",
   "execution_count": 278,
   "id": "9826fc33",
   "metadata": {},
   "outputs": [
    {
     "name": "stderr",
     "output_type": "stream",
     "text": [
      "C:\\Users\\nishi\\anaconda3\\lib\\site-packages\\sklearn\\neighbors\\_classification.py:228: FutureWarning: Unlike other reduction functions (e.g. `skew`, `kurtosis`), the default behavior of `mode` typically preserves the axis it acts along. In SciPy 1.11.0, this behavior will change: the default value of `keepdims` will become False, the `axis` over which the statistic is taken will be eliminated, and the value None will no longer be accepted. Set `keepdims` to True or False to avoid this warning.\n",
      "  mode, _ = stats.mode(_y[neigh_ind, k], axis=1)\n"
     ]
    }
   ],
   "source": [
    "# Make predictions on the test set\n",
    "knn_preds = knn.predict(X_test_scaled)"
   ]
  },
  {
   "cell_type": "code",
   "execution_count": 280,
   "id": "e59c2d8d",
   "metadata": {},
   "outputs": [
    {
     "name": "stdout",
     "output_type": "stream",
     "text": [
      "['Waking up' 'Waking up' 'Traditional champions' 'Waking up'\n",
      " 'Rising stars' 'Waking up' 'Rising stars' 'Rising stars' 'Waking up'\n",
      " 'Waking up' 'Waking up' 'Rising stars' 'Waking up']\n"
     ]
    }
   ],
   "source": [
    "print(knn_preds)\n"
   ]
  },
  {
   "cell_type": "code",
   "execution_count": 282,
   "id": "df1c0a5a",
   "metadata": {},
   "outputs": [
    {
     "name": "stdout",
     "output_type": "stream",
     "text": [
      "KNN - Accuracy: 0.6153846153846154\n"
     ]
    }
   ],
   "source": [
    "# Evaluate the KNN model\n",
    "knn_accuracy = accuracy_score(y_test, knn_preds)\n",
    "print(\"KNN - Accuracy:\", knn_accuracy)"
   ]
  },
  {
   "cell_type": "code",
   "execution_count": 283,
   "id": "8ca30352",
   "metadata": {},
   "outputs": [
    {
     "name": "stdout",
     "output_type": "stream",
     "text": [
      "KNN - Precision: 0.4807692307692308\n"
     ]
    },
    {
     "name": "stderr",
     "output_type": "stream",
     "text": [
      "C:\\Users\\nishi\\anaconda3\\lib\\site-packages\\sklearn\\metrics\\_classification.py:1318: UndefinedMetricWarning: Precision is ill-defined and being set to 0.0 in labels with no predicted samples. Use `zero_division` parameter to control this behavior.\n",
      "  _warn_prf(average, modifier, msg_start, len(result))\n"
     ]
    }
   ],
   "source": [
    "knn_precision = precision_score(y_test, knn_preds, average='weighted')\n",
    "print(\"KNN - Precision:\", knn_precision)"
   ]
  },
  {
   "cell_type": "code",
   "execution_count": 285,
   "id": "99a08a49",
   "metadata": {},
   "outputs": [
    {
     "name": "stdout",
     "output_type": "stream",
     "text": [
      "KNN - Recall: 0.6153846153846154\n"
     ]
    }
   ],
   "source": [
    "knn_recall = recall_score(y_test, knn_preds, average='weighted')\n",
    "print(\"KNN - Recall:\", knn_recall)"
   ]
  },
  {
   "cell_type": "code",
   "execution_count": 286,
   "id": "94b1d7b4",
   "metadata": {},
   "outputs": [
    {
     "name": "stdout",
     "output_type": "stream",
     "text": [
      "KNN - F1-score: 0.5333333333333333\n"
     ]
    }
   ],
   "source": [
    "knn_f1 = f1_score(y_test, knn_preds, average='weighted')\n",
    "print(\"KNN - F1-score:\", knn_f1)"
   ]
  },
  {
   "cell_type": "code",
   "execution_count": 287,
   "id": "e5940f5d",
   "metadata": {},
   "outputs": [],
   "source": [
    "leaf_size = list(range(1,15))\n",
    "n_neighbors = list(range(1,10))\n",
    "p=[1,2]   \n",
    "hyperparameters = dict(leaf_size=leaf_size, n_neighbors=n_neighbors, p=p)"
   ]
  },
  {
   "cell_type": "code",
   "execution_count": 289,
   "id": "598c2e16",
   "metadata": {},
   "outputs": [],
   "source": [
    "# Define the parameter grid for GridSearchCV\n",
    "param_grid = {\n",
    "    'n_neighbors': [3, 5, 7],\n",
    "    'weights': ['uniform', 'distance'],\n",
    "    'metric': ['euclidean', 'manhattan']\n",
    "}"
   ]
  },
  {
   "cell_type": "code",
   "execution_count": 290,
   "id": "34fe9d6e",
   "metadata": {},
   "outputs": [],
   "source": [
    "# Initialize the kNN classifier\n",
    "knn = KNeighborsClassifier()"
   ]
  },
  {
   "cell_type": "code",
   "execution_count": 291,
   "id": "a5cf0051",
   "metadata": {},
   "outputs": [
    {
     "name": "stderr",
     "output_type": "stream",
     "text": [
      "C:\\Users\\nishi\\anaconda3\\lib\\site-packages\\sklearn\\model_selection\\_split.py:676: UserWarning: The least populated class in y has only 1 members, which is less than n_splits=5.\n",
      "  warnings.warn(\n",
      "C:\\Users\\nishi\\anaconda3\\lib\\site-packages\\sklearn\\neighbors\\_classification.py:228: FutureWarning: Unlike other reduction functions (e.g. `skew`, `kurtosis`), the default behavior of `mode` typically preserves the axis it acts along. In SciPy 1.11.0, this behavior will change: the default value of `keepdims` will become False, the `axis` over which the statistic is taken will be eliminated, and the value None will no longer be accepted. Set `keepdims` to True or False to avoid this warning.\n",
      "  mode, _ = stats.mode(_y[neigh_ind, k], axis=1)\n",
      "C:\\Users\\nishi\\anaconda3\\lib\\site-packages\\sklearn\\neighbors\\_classification.py:228: FutureWarning: Unlike other reduction functions (e.g. `skew`, `kurtosis`), the default behavior of `mode` typically preserves the axis it acts along. In SciPy 1.11.0, this behavior will change: the default value of `keepdims` will become False, the `axis` over which the statistic is taken will be eliminated, and the value None will no longer be accepted. Set `keepdims` to True or False to avoid this warning.\n",
      "  mode, _ = stats.mode(_y[neigh_ind, k], axis=1)\n",
      "C:\\Users\\nishi\\anaconda3\\lib\\site-packages\\sklearn\\neighbors\\_classification.py:228: FutureWarning: Unlike other reduction functions (e.g. `skew`, `kurtosis`), the default behavior of `mode` typically preserves the axis it acts along. In SciPy 1.11.0, this behavior will change: the default value of `keepdims` will become False, the `axis` over which the statistic is taken will be eliminated, and the value None will no longer be accepted. Set `keepdims` to True or False to avoid this warning.\n",
      "  mode, _ = stats.mode(_y[neigh_ind, k], axis=1)\n",
      "C:\\Users\\nishi\\anaconda3\\lib\\site-packages\\sklearn\\neighbors\\_classification.py:228: FutureWarning: Unlike other reduction functions (e.g. `skew`, `kurtosis`), the default behavior of `mode` typically preserves the axis it acts along. In SciPy 1.11.0, this behavior will change: the default value of `keepdims` will become False, the `axis` over which the statistic is taken will be eliminated, and the value None will no longer be accepted. Set `keepdims` to True or False to avoid this warning.\n",
      "  mode, _ = stats.mode(_y[neigh_ind, k], axis=1)\n",
      "C:\\Users\\nishi\\anaconda3\\lib\\site-packages\\sklearn\\neighbors\\_classification.py:228: FutureWarning: Unlike other reduction functions (e.g. `skew`, `kurtosis`), the default behavior of `mode` typically preserves the axis it acts along. In SciPy 1.11.0, this behavior will change: the default value of `keepdims` will become False, the `axis` over which the statistic is taken will be eliminated, and the value None will no longer be accepted. Set `keepdims` to True or False to avoid this warning.\n",
      "  mode, _ = stats.mode(_y[neigh_ind, k], axis=1)\n",
      "C:\\Users\\nishi\\anaconda3\\lib\\site-packages\\sklearn\\neighbors\\_classification.py:228: FutureWarning: Unlike other reduction functions (e.g. `skew`, `kurtosis`), the default behavior of `mode` typically preserves the axis it acts along. In SciPy 1.11.0, this behavior will change: the default value of `keepdims` will become False, the `axis` over which the statistic is taken will be eliminated, and the value None will no longer be accepted. Set `keepdims` to True or False to avoid this warning.\n",
      "  mode, _ = stats.mode(_y[neigh_ind, k], axis=1)\n",
      "C:\\Users\\nishi\\anaconda3\\lib\\site-packages\\sklearn\\neighbors\\_classification.py:228: FutureWarning: Unlike other reduction functions (e.g. `skew`, `kurtosis`), the default behavior of `mode` typically preserves the axis it acts along. In SciPy 1.11.0, this behavior will change: the default value of `keepdims` will become False, the `axis` over which the statistic is taken will be eliminated, and the value None will no longer be accepted. Set `keepdims` to True or False to avoid this warning.\n",
      "  mode, _ = stats.mode(_y[neigh_ind, k], axis=1)\n",
      "C:\\Users\\nishi\\anaconda3\\lib\\site-packages\\sklearn\\neighbors\\_classification.py:228: FutureWarning: Unlike other reduction functions (e.g. `skew`, `kurtosis`), the default behavior of `mode` typically preserves the axis it acts along. In SciPy 1.11.0, this behavior will change: the default value of `keepdims` will become False, the `axis` over which the statistic is taken will be eliminated, and the value None will no longer be accepted. Set `keepdims` to True or False to avoid this warning.\n",
      "  mode, _ = stats.mode(_y[neigh_ind, k], axis=1)\n",
      "C:\\Users\\nishi\\anaconda3\\lib\\site-packages\\sklearn\\neighbors\\_classification.py:228: FutureWarning: Unlike other reduction functions (e.g. `skew`, `kurtosis`), the default behavior of `mode` typically preserves the axis it acts along. In SciPy 1.11.0, this behavior will change: the default value of `keepdims` will become False, the `axis` over which the statistic is taken will be eliminated, and the value None will no longer be accepted. Set `keepdims` to True or False to avoid this warning.\n",
      "  mode, _ = stats.mode(_y[neigh_ind, k], axis=1)\n",
      "C:\\Users\\nishi\\anaconda3\\lib\\site-packages\\sklearn\\neighbors\\_classification.py:228: FutureWarning: Unlike other reduction functions (e.g. `skew`, `kurtosis`), the default behavior of `mode` typically preserves the axis it acts along. In SciPy 1.11.0, this behavior will change: the default value of `keepdims` will become False, the `axis` over which the statistic is taken will be eliminated, and the value None will no longer be accepted. Set `keepdims` to True or False to avoid this warning.\n",
      "  mode, _ = stats.mode(_y[neigh_ind, k], axis=1)\n",
      "C:\\Users\\nishi\\anaconda3\\lib\\site-packages\\sklearn\\neighbors\\_classification.py:228: FutureWarning: Unlike other reduction functions (e.g. `skew`, `kurtosis`), the default behavior of `mode` typically preserves the axis it acts along. In SciPy 1.11.0, this behavior will change: the default value of `keepdims` will become False, the `axis` over which the statistic is taken will be eliminated, and the value None will no longer be accepted. Set `keepdims` to True or False to avoid this warning.\n",
      "  mode, _ = stats.mode(_y[neigh_ind, k], axis=1)\n",
      "C:\\Users\\nishi\\anaconda3\\lib\\site-packages\\sklearn\\neighbors\\_classification.py:228: FutureWarning: Unlike other reduction functions (e.g. `skew`, `kurtosis`), the default behavior of `mode` typically preserves the axis it acts along. In SciPy 1.11.0, this behavior will change: the default value of `keepdims` will become False, the `axis` over which the statistic is taken will be eliminated, and the value None will no longer be accepted. Set `keepdims` to True or False to avoid this warning.\n",
      "  mode, _ = stats.mode(_y[neigh_ind, k], axis=1)\n",
      "C:\\Users\\nishi\\anaconda3\\lib\\site-packages\\sklearn\\neighbors\\_classification.py:228: FutureWarning: Unlike other reduction functions (e.g. `skew`, `kurtosis`), the default behavior of `mode` typically preserves the axis it acts along. In SciPy 1.11.0, this behavior will change: the default value of `keepdims` will become False, the `axis` over which the statistic is taken will be eliminated, and the value None will no longer be accepted. Set `keepdims` to True or False to avoid this warning.\n",
      "  mode, _ = stats.mode(_y[neigh_ind, k], axis=1)\n",
      "C:\\Users\\nishi\\anaconda3\\lib\\site-packages\\sklearn\\neighbors\\_classification.py:228: FutureWarning: Unlike other reduction functions (e.g. `skew`, `kurtosis`), the default behavior of `mode` typically preserves the axis it acts along. In SciPy 1.11.0, this behavior will change: the default value of `keepdims` will become False, the `axis` over which the statistic is taken will be eliminated, and the value None will no longer be accepted. Set `keepdims` to True or False to avoid this warning.\n",
      "  mode, _ = stats.mode(_y[neigh_ind, k], axis=1)\n",
      "C:\\Users\\nishi\\anaconda3\\lib\\site-packages\\sklearn\\neighbors\\_classification.py:228: FutureWarning: Unlike other reduction functions (e.g. `skew`, `kurtosis`), the default behavior of `mode` typically preserves the axis it acts along. In SciPy 1.11.0, this behavior will change: the default value of `keepdims` will become False, the `axis` over which the statistic is taken will be eliminated, and the value None will no longer be accepted. Set `keepdims` to True or False to avoid this warning.\n",
      "  mode, _ = stats.mode(_y[neigh_ind, k], axis=1)\n",
      "C:\\Users\\nishi\\anaconda3\\lib\\site-packages\\sklearn\\neighbors\\_classification.py:228: FutureWarning: Unlike other reduction functions (e.g. `skew`, `kurtosis`), the default behavior of `mode` typically preserves the axis it acts along. In SciPy 1.11.0, this behavior will change: the default value of `keepdims` will become False, the `axis` over which the statistic is taken will be eliminated, and the value None will no longer be accepted. Set `keepdims` to True or False to avoid this warning.\n",
      "  mode, _ = stats.mode(_y[neigh_ind, k], axis=1)\n",
      "C:\\Users\\nishi\\anaconda3\\lib\\site-packages\\sklearn\\neighbors\\_classification.py:228: FutureWarning: Unlike other reduction functions (e.g. `skew`, `kurtosis`), the default behavior of `mode` typically preserves the axis it acts along. In SciPy 1.11.0, this behavior will change: the default value of `keepdims` will become False, the `axis` over which the statistic is taken will be eliminated, and the value None will no longer be accepted. Set `keepdims` to True or False to avoid this warning.\n",
      "  mode, _ = stats.mode(_y[neigh_ind, k], axis=1)\n",
      "C:\\Users\\nishi\\anaconda3\\lib\\site-packages\\sklearn\\neighbors\\_classification.py:228: FutureWarning: Unlike other reduction functions (e.g. `skew`, `kurtosis`), the default behavior of `mode` typically preserves the axis it acts along. In SciPy 1.11.0, this behavior will change: the default value of `keepdims` will become False, the `axis` over which the statistic is taken will be eliminated, and the value None will no longer be accepted. Set `keepdims` to True or False to avoid this warning.\n",
      "  mode, _ = stats.mode(_y[neigh_ind, k], axis=1)\n",
      "C:\\Users\\nishi\\anaconda3\\lib\\site-packages\\sklearn\\neighbors\\_classification.py:228: FutureWarning: Unlike other reduction functions (e.g. `skew`, `kurtosis`), the default behavior of `mode` typically preserves the axis it acts along. In SciPy 1.11.0, this behavior will change: the default value of `keepdims` will become False, the `axis` over which the statistic is taken will be eliminated, and the value None will no longer be accepted. Set `keepdims` to True or False to avoid this warning.\n",
      "  mode, _ = stats.mode(_y[neigh_ind, k], axis=1)\n",
      "C:\\Users\\nishi\\anaconda3\\lib\\site-packages\\sklearn\\neighbors\\_classification.py:228: FutureWarning: Unlike other reduction functions (e.g. `skew`, `kurtosis`), the default behavior of `mode` typically preserves the axis it acts along. In SciPy 1.11.0, this behavior will change: the default value of `keepdims` will become False, the `axis` over which the statistic is taken will be eliminated, and the value None will no longer be accepted. Set `keepdims` to True or False to avoid this warning.\n",
      "  mode, _ = stats.mode(_y[neigh_ind, k], axis=1)\n",
      "C:\\Users\\nishi\\anaconda3\\lib\\site-packages\\sklearn\\neighbors\\_classification.py:228: FutureWarning: Unlike other reduction functions (e.g. `skew`, `kurtosis`), the default behavior of `mode` typically preserves the axis it acts along. In SciPy 1.11.0, this behavior will change: the default value of `keepdims` will become False, the `axis` over which the statistic is taken will be eliminated, and the value None will no longer be accepted. Set `keepdims` to True or False to avoid this warning.\n",
      "  mode, _ = stats.mode(_y[neigh_ind, k], axis=1)\n",
      "C:\\Users\\nishi\\anaconda3\\lib\\site-packages\\sklearn\\neighbors\\_classification.py:228: FutureWarning: Unlike other reduction functions (e.g. `skew`, `kurtosis`), the default behavior of `mode` typically preserves the axis it acts along. In SciPy 1.11.0, this behavior will change: the default value of `keepdims` will become False, the `axis` over which the statistic is taken will be eliminated, and the value None will no longer be accepted. Set `keepdims` to True or False to avoid this warning.\n",
      "  mode, _ = stats.mode(_y[neigh_ind, k], axis=1)\n",
      "C:\\Users\\nishi\\anaconda3\\lib\\site-packages\\sklearn\\neighbors\\_classification.py:228: FutureWarning: Unlike other reduction functions (e.g. `skew`, `kurtosis`), the default behavior of `mode` typically preserves the axis it acts along. In SciPy 1.11.0, this behavior will change: the default value of `keepdims` will become False, the `axis` over which the statistic is taken will be eliminated, and the value None will no longer be accepted. Set `keepdims` to True or False to avoid this warning.\n",
      "  mode, _ = stats.mode(_y[neigh_ind, k], axis=1)\n",
      "C:\\Users\\nishi\\anaconda3\\lib\\site-packages\\sklearn\\neighbors\\_classification.py:228: FutureWarning: Unlike other reduction functions (e.g. `skew`, `kurtosis`), the default behavior of `mode` typically preserves the axis it acts along. In SciPy 1.11.0, this behavior will change: the default value of `keepdims` will become False, the `axis` over which the statistic is taken will be eliminated, and the value None will no longer be accepted. Set `keepdims` to True or False to avoid this warning.\n",
      "  mode, _ = stats.mode(_y[neigh_ind, k], axis=1)\n",
      "C:\\Users\\nishi\\anaconda3\\lib\\site-packages\\sklearn\\neighbors\\_classification.py:228: FutureWarning: Unlike other reduction functions (e.g. `skew`, `kurtosis`), the default behavior of `mode` typically preserves the axis it acts along. In SciPy 1.11.0, this behavior will change: the default value of `keepdims` will become False, the `axis` over which the statistic is taken will be eliminated, and the value None will no longer be accepted. Set `keepdims` to True or False to avoid this warning.\n",
      "  mode, _ = stats.mode(_y[neigh_ind, k], axis=1)\n",
      "C:\\Users\\nishi\\anaconda3\\lib\\site-packages\\sklearn\\neighbors\\_classification.py:228: FutureWarning: Unlike other reduction functions (e.g. `skew`, `kurtosis`), the default behavior of `mode` typically preserves the axis it acts along. In SciPy 1.11.0, this behavior will change: the default value of `keepdims` will become False, the `axis` over which the statistic is taken will be eliminated, and the value None will no longer be accepted. Set `keepdims` to True or False to avoid this warning.\n",
      "  mode, _ = stats.mode(_y[neigh_ind, k], axis=1)\n",
      "C:\\Users\\nishi\\anaconda3\\lib\\site-packages\\sklearn\\neighbors\\_classification.py:228: FutureWarning: Unlike other reduction functions (e.g. `skew`, `kurtosis`), the default behavior of `mode` typically preserves the axis it acts along. In SciPy 1.11.0, this behavior will change: the default value of `keepdims` will become False, the `axis` over which the statistic is taken will be eliminated, and the value None will no longer be accepted. Set `keepdims` to True or False to avoid this warning.\n",
      "  mode, _ = stats.mode(_y[neigh_ind, k], axis=1)\n",
      "C:\\Users\\nishi\\anaconda3\\lib\\site-packages\\sklearn\\neighbors\\_classification.py:228: FutureWarning: Unlike other reduction functions (e.g. `skew`, `kurtosis`), the default behavior of `mode` typically preserves the axis it acts along. In SciPy 1.11.0, this behavior will change: the default value of `keepdims` will become False, the `axis` over which the statistic is taken will be eliminated, and the value None will no longer be accepted. Set `keepdims` to True or False to avoid this warning.\n",
      "  mode, _ = stats.mode(_y[neigh_ind, k], axis=1)\n",
      "C:\\Users\\nishi\\anaconda3\\lib\\site-packages\\sklearn\\neighbors\\_classification.py:228: FutureWarning: Unlike other reduction functions (e.g. `skew`, `kurtosis`), the default behavior of `mode` typically preserves the axis it acts along. In SciPy 1.11.0, this behavior will change: the default value of `keepdims` will become False, the `axis` over which the statistic is taken will be eliminated, and the value None will no longer be accepted. Set `keepdims` to True or False to avoid this warning.\n",
      "  mode, _ = stats.mode(_y[neigh_ind, k], axis=1)\n",
      "C:\\Users\\nishi\\anaconda3\\lib\\site-packages\\sklearn\\neighbors\\_classification.py:228: FutureWarning: Unlike other reduction functions (e.g. `skew`, `kurtosis`), the default behavior of `mode` typically preserves the axis it acts along. In SciPy 1.11.0, this behavior will change: the default value of `keepdims` will become False, the `axis` over which the statistic is taken will be eliminated, and the value None will no longer be accepted. Set `keepdims` to True or False to avoid this warning.\n",
      "  mode, _ = stats.mode(_y[neigh_ind, k], axis=1)\n"
     ]
    },
    {
     "data": {
      "text/plain": [
       "GridSearchCV(cv=5, estimator=KNeighborsClassifier(),\n",
       "             param_grid={'metric': ['euclidean', 'manhattan'],\n",
       "                         'n_neighbors': [3, 5, 7],\n",
       "                         'weights': ['uniform', 'distance']})"
      ]
     },
     "execution_count": 291,
     "metadata": {},
     "output_type": "execute_result"
    }
   ],
   "source": [
    "# Perform grid search to find the best hyperparameters\n",
    "grid_search = GridSearchCV(knn, param_grid, cv=5)\n",
    "grid_search.fit(X_train_scaled, y_train)"
   ]
  },
  {
   "cell_type": "code",
   "execution_count": 292,
   "id": "28ac8d4a",
   "metadata": {},
   "outputs": [
    {
     "name": "stdout",
     "output_type": "stream",
     "text": [
      "Best Hyperparameters: {'metric': 'manhattan', 'n_neighbors': 3, 'weights': 'uniform'}\n",
      "Best Score: 0.8177777777777777\n"
     ]
    }
   ],
   "source": [
    "# Print the best hyperparameters and the corresponding mean cross-validated score\n",
    "print(\"Best Hyperparameters:\", grid_search.best_params_)\n",
    "print(\"Best Score:\", grid_search.best_score_)"
   ]
  },
  {
   "cell_type": "code",
   "execution_count": 293,
   "id": "989d4e6e",
   "metadata": {},
   "outputs": [
    {
     "name": "stderr",
     "output_type": "stream",
     "text": [
      "C:\\Users\\nishi\\anaconda3\\lib\\site-packages\\sklearn\\neighbors\\_classification.py:228: FutureWarning: Unlike other reduction functions (e.g. `skew`, `kurtosis`), the default behavior of `mode` typically preserves the axis it acts along. In SciPy 1.11.0, this behavior will change: the default value of `keepdims` will become False, the `axis` over which the statistic is taken will be eliminated, and the value None will no longer be accepted. Set `keepdims` to True or False to avoid this warning.\n",
      "  mode, _ = stats.mode(_y[neigh_ind, k], axis=1)\n"
     ]
    }
   ],
   "source": [
    "# Make predictions on the test set using the best model\n",
    "knn_best = grid_search.best_estimator_\n",
    "knn_preds = knn_best.predict(X_test_scaled)"
   ]
  },
  {
   "cell_type": "code",
   "execution_count": 294,
   "id": "2b32d91b",
   "metadata": {},
   "outputs": [
    {
     "data": {
      "text/plain": [
       "KNeighborsClassifier(metric='manhattan', n_neighbors=3)"
      ]
     },
     "execution_count": 294,
     "metadata": {},
     "output_type": "execute_result"
    }
   ],
   "source": [
    "knn_best"
   ]
  },
  {
   "cell_type": "code",
   "execution_count": 295,
   "id": "86b27771",
   "metadata": {},
   "outputs": [
    {
     "data": {
      "text/plain": [
       "array(['Waking up', 'Waking up', 'Power players', 'Waking up',\n",
       "       'Traditional champions', 'Waking up', 'Rising stars',\n",
       "       'Rising stars', 'Waking up', 'Nascent', 'Waking up',\n",
       "       'Rising stars', 'Waking up'], dtype=object)"
      ]
     },
     "execution_count": 295,
     "metadata": {},
     "output_type": "execute_result"
    }
   ],
   "source": [
    "knn_preds"
   ]
  },
  {
   "cell_type": "code",
   "execution_count": 301,
   "id": "9bad074d",
   "metadata": {},
   "outputs": [
    {
     "name": "stdout",
     "output_type": "stream",
     "text": [
      "                       precision    recall  f1-score   support\n",
      "\n",
      "              Nascent       0.00      0.00      0.00         2\n",
      "        Power players       0.00      0.00      0.00         1\n",
      "         Rising stars       0.00      0.00      0.00         2\n",
      "Traditional champions       0.00      0.00      0.00         1\n",
      "            Waking up       0.40      0.57      0.47         7\n",
      "\n",
      "             accuracy                           0.31        13\n",
      "            macro avg       0.08      0.11      0.09        13\n",
      "         weighted avg       0.22      0.31      0.25        13\n",
      "\n"
     ]
    },
    {
     "name": "stderr",
     "output_type": "stream",
     "text": [
      "C:\\Users\\nishi\\anaconda3\\lib\\site-packages\\sklearn\\metrics\\_classification.py:1318: UndefinedMetricWarning: Precision and F-score are ill-defined and being set to 0.0 in labels with no predicted samples. Use `zero_division` parameter to control this behavior.\n",
      "  _warn_prf(average, modifier, msg_start, len(result))\n",
      "C:\\Users\\nishi\\anaconda3\\lib\\site-packages\\sklearn\\metrics\\_classification.py:1318: UndefinedMetricWarning: Precision and F-score are ill-defined and being set to 0.0 in labels with no predicted samples. Use `zero_division` parameter to control this behavior.\n",
      "  _warn_prf(average, modifier, msg_start, len(result))\n",
      "C:\\Users\\nishi\\anaconda3\\lib\\site-packages\\sklearn\\metrics\\_classification.py:1318: UndefinedMetricWarning: Precision and F-score are ill-defined and being set to 0.0 in labels with no predicted samples. Use `zero_division` parameter to control this behavior.\n",
      "  _warn_prf(average, modifier, msg_start, len(result))\n"
     ]
    }
   ],
   "source": [
    "print(classification_report(y_test, y_pred))\n"
   ]
  },
  {
   "cell_type": "code",
   "execution_count": 302,
   "id": "d9e4b36e",
   "metadata": {},
   "outputs": [],
   "source": [
    "# Define a list of values for n_neighbors\n",
    "n_neighbors = [1, 3, 5, 7, 9, 11, 13, 15]"
   ]
  },
  {
   "cell_type": "code",
   "execution_count": 306,
   "id": "3f8b30b6",
   "metadata": {},
   "outputs": [],
   "source": [
    "# Initialize lists to store accuracies for each value of n_neighbors\n",
    "train_accs = []\n",
    "test_accs = []"
   ]
  },
  {
   "cell_type": "code",
   "execution_count": 307,
   "id": "60d556ff",
   "metadata": {},
   "outputs": [
    {
     "name": "stderr",
     "output_type": "stream",
     "text": [
      "C:\\Users\\nishi\\anaconda3\\lib\\site-packages\\sklearn\\neighbors\\_classification.py:228: FutureWarning: Unlike other reduction functions (e.g. `skew`, `kurtosis`), the default behavior of `mode` typically preserves the axis it acts along. In SciPy 1.11.0, this behavior will change: the default value of `keepdims` will become False, the `axis` over which the statistic is taken will be eliminated, and the value None will no longer be accepted. Set `keepdims` to True or False to avoid this warning.\n",
      "  mode, _ = stats.mode(_y[neigh_ind, k], axis=1)\n",
      "C:\\Users\\nishi\\anaconda3\\lib\\site-packages\\sklearn\\neighbors\\_classification.py:228: FutureWarning: Unlike other reduction functions (e.g. `skew`, `kurtosis`), the default behavior of `mode` typically preserves the axis it acts along. In SciPy 1.11.0, this behavior will change: the default value of `keepdims` will become False, the `axis` over which the statistic is taken will be eliminated, and the value None will no longer be accepted. Set `keepdims` to True or False to avoid this warning.\n",
      "  mode, _ = stats.mode(_y[neigh_ind, k], axis=1)\n",
      "C:\\Users\\nishi\\anaconda3\\lib\\site-packages\\sklearn\\neighbors\\_classification.py:228: FutureWarning: Unlike other reduction functions (e.g. `skew`, `kurtosis`), the default behavior of `mode` typically preserves the axis it acts along. In SciPy 1.11.0, this behavior will change: the default value of `keepdims` will become False, the `axis` over which the statistic is taken will be eliminated, and the value None will no longer be accepted. Set `keepdims` to True or False to avoid this warning.\n",
      "  mode, _ = stats.mode(_y[neigh_ind, k], axis=1)\n",
      "C:\\Users\\nishi\\anaconda3\\lib\\site-packages\\sklearn\\neighbors\\_classification.py:228: FutureWarning: Unlike other reduction functions (e.g. `skew`, `kurtosis`), the default behavior of `mode` typically preserves the axis it acts along. In SciPy 1.11.0, this behavior will change: the default value of `keepdims` will become False, the `axis` over which the statistic is taken will be eliminated, and the value None will no longer be accepted. Set `keepdims` to True or False to avoid this warning.\n",
      "  mode, _ = stats.mode(_y[neigh_ind, k], axis=1)\n",
      "C:\\Users\\nishi\\anaconda3\\lib\\site-packages\\sklearn\\neighbors\\_classification.py:228: FutureWarning: Unlike other reduction functions (e.g. `skew`, `kurtosis`), the default behavior of `mode` typically preserves the axis it acts along. In SciPy 1.11.0, this behavior will change: the default value of `keepdims` will become False, the `axis` over which the statistic is taken will be eliminated, and the value None will no longer be accepted. Set `keepdims` to True or False to avoid this warning.\n",
      "  mode, _ = stats.mode(_y[neigh_ind, k], axis=1)\n",
      "C:\\Users\\nishi\\anaconda3\\lib\\site-packages\\sklearn\\neighbors\\_classification.py:228: FutureWarning: Unlike other reduction functions (e.g. `skew`, `kurtosis`), the default behavior of `mode` typically preserves the axis it acts along. In SciPy 1.11.0, this behavior will change: the default value of `keepdims` will become False, the `axis` over which the statistic is taken will be eliminated, and the value None will no longer be accepted. Set `keepdims` to True or False to avoid this warning.\n",
      "  mode, _ = stats.mode(_y[neigh_ind, k], axis=1)\n",
      "C:\\Users\\nishi\\anaconda3\\lib\\site-packages\\sklearn\\neighbors\\_classification.py:228: FutureWarning: Unlike other reduction functions (e.g. `skew`, `kurtosis`), the default behavior of `mode` typically preserves the axis it acts along. In SciPy 1.11.0, this behavior will change: the default value of `keepdims` will become False, the `axis` over which the statistic is taken will be eliminated, and the value None will no longer be accepted. Set `keepdims` to True or False to avoid this warning.\n",
      "  mode, _ = stats.mode(_y[neigh_ind, k], axis=1)\n",
      "C:\\Users\\nishi\\anaconda3\\lib\\site-packages\\sklearn\\neighbors\\_classification.py:228: FutureWarning: Unlike other reduction functions (e.g. `skew`, `kurtosis`), the default behavior of `mode` typically preserves the axis it acts along. In SciPy 1.11.0, this behavior will change: the default value of `keepdims` will become False, the `axis` over which the statistic is taken will be eliminated, and the value None will no longer be accepted. Set `keepdims` to True or False to avoid this warning.\n",
      "  mode, _ = stats.mode(_y[neigh_ind, k], axis=1)\n",
      "C:\\Users\\nishi\\anaconda3\\lib\\site-packages\\sklearn\\neighbors\\_classification.py:228: FutureWarning: Unlike other reduction functions (e.g. `skew`, `kurtosis`), the default behavior of `mode` typically preserves the axis it acts along. In SciPy 1.11.0, this behavior will change: the default value of `keepdims` will become False, the `axis` over which the statistic is taken will be eliminated, and the value None will no longer be accepted. Set `keepdims` to True or False to avoid this warning.\n",
      "  mode, _ = stats.mode(_y[neigh_ind, k], axis=1)\n",
      "C:\\Users\\nishi\\anaconda3\\lib\\site-packages\\sklearn\\neighbors\\_classification.py:228: FutureWarning: Unlike other reduction functions (e.g. `skew`, `kurtosis`), the default behavior of `mode` typically preserves the axis it acts along. In SciPy 1.11.0, this behavior will change: the default value of `keepdims` will become False, the `axis` over which the statistic is taken will be eliminated, and the value None will no longer be accepted. Set `keepdims` to True or False to avoid this warning.\n",
      "  mode, _ = stats.mode(_y[neigh_ind, k], axis=1)\n",
      "C:\\Users\\nishi\\anaconda3\\lib\\site-packages\\sklearn\\neighbors\\_classification.py:228: FutureWarning: Unlike other reduction functions (e.g. `skew`, `kurtosis`), the default behavior of `mode` typically preserves the axis it acts along. In SciPy 1.11.0, this behavior will change: the default value of `keepdims` will become False, the `axis` over which the statistic is taken will be eliminated, and the value None will no longer be accepted. Set `keepdims` to True or False to avoid this warning.\n",
      "  mode, _ = stats.mode(_y[neigh_ind, k], axis=1)\n",
      "C:\\Users\\nishi\\anaconda3\\lib\\site-packages\\sklearn\\neighbors\\_classification.py:228: FutureWarning: Unlike other reduction functions (e.g. `skew`, `kurtosis`), the default behavior of `mode` typically preserves the axis it acts along. In SciPy 1.11.0, this behavior will change: the default value of `keepdims` will become False, the `axis` over which the statistic is taken will be eliminated, and the value None will no longer be accepted. Set `keepdims` to True or False to avoid this warning.\n",
      "  mode, _ = stats.mode(_y[neigh_ind, k], axis=1)\n",
      "C:\\Users\\nishi\\anaconda3\\lib\\site-packages\\sklearn\\neighbors\\_classification.py:228: FutureWarning: Unlike other reduction functions (e.g. `skew`, `kurtosis`), the default behavior of `mode` typically preserves the axis it acts along. In SciPy 1.11.0, this behavior will change: the default value of `keepdims` will become False, the `axis` over which the statistic is taken will be eliminated, and the value None will no longer be accepted. Set `keepdims` to True or False to avoid this warning.\n",
      "  mode, _ = stats.mode(_y[neigh_ind, k], axis=1)\n",
      "C:\\Users\\nishi\\anaconda3\\lib\\site-packages\\sklearn\\neighbors\\_classification.py:228: FutureWarning: Unlike other reduction functions (e.g. `skew`, `kurtosis`), the default behavior of `mode` typically preserves the axis it acts along. In SciPy 1.11.0, this behavior will change: the default value of `keepdims` will become False, the `axis` over which the statistic is taken will be eliminated, and the value None will no longer be accepted. Set `keepdims` to True or False to avoid this warning.\n",
      "  mode, _ = stats.mode(_y[neigh_ind, k], axis=1)\n",
      "C:\\Users\\nishi\\anaconda3\\lib\\site-packages\\sklearn\\neighbors\\_classification.py:228: FutureWarning: Unlike other reduction functions (e.g. `skew`, `kurtosis`), the default behavior of `mode` typically preserves the axis it acts along. In SciPy 1.11.0, this behavior will change: the default value of `keepdims` will become False, the `axis` over which the statistic is taken will be eliminated, and the value None will no longer be accepted. Set `keepdims` to True or False to avoid this warning.\n",
      "  mode, _ = stats.mode(_y[neigh_ind, k], axis=1)\n",
      "C:\\Users\\nishi\\anaconda3\\lib\\site-packages\\sklearn\\neighbors\\_classification.py:228: FutureWarning: Unlike other reduction functions (e.g. `skew`, `kurtosis`), the default behavior of `mode` typically preserves the axis it acts along. In SciPy 1.11.0, this behavior will change: the default value of `keepdims` will become False, the `axis` over which the statistic is taken will be eliminated, and the value None will no longer be accepted. Set `keepdims` to True or False to avoid this warning.\n",
      "  mode, _ = stats.mode(_y[neigh_ind, k], axis=1)\n"
     ]
    }
   ],
   "source": [
    "\n",
    "# Train and evaluate the kNN model for each value of n_neighbors\n",
    "for k in n_neighbors:\n",
    "    knn = KNeighborsClassifier(n_neighbors=k)\n",
    "    knn.fit(X_train_scaled, y_train)\n",
    "    train_acc = knn.score(X_train_scaled, y_train)\n",
    "    test_acc = knn.score(X_test_scaled, y_test)\n",
    "    train_accs.append(train_acc)\n",
    "    test_accs.append(test_acc)\n"
   ]
  },
  {
   "cell_type": "code",
   "execution_count": 308,
   "id": "34490e90",
   "metadata": {},
   "outputs": [
    {
     "data": {
      "image/png": "[encoded data removed]",
      "text/plain": [
       "<Figure size 640x480 with 1 Axes>"
      ]
     },
     "metadata": {},
     "output_type": "display_data"
    }
   ],
   "source": [
    "# Plot the accuracy graph\n",
    "plt.plot(n_neighbors, train_accs, label='Train Accuracy')\n",
    "plt.plot(n_neighbors, test_accs, label='Test Accuracy')\n",
    "plt.xlabel('Number of Neighbors (k)')\n",
    "plt.ylabel('Accuracy')\n",
    "plt.title('kNN Accuracy vs Number of Neighbors')\n",
    "plt.legend()\n",
    "plt.show()\n"
   ]
  },
  {
   "cell_type": "markdown",
   "id": "71a28b2f",
   "metadata": {},
   "source": [
    "## Support vector machine\n"
   ]
  },
  {
   "cell_type": "code",
   "execution_count": 363,
   "id": "66cf5aec",
   "metadata": {},
   "outputs": [],
   "source": [
    "import pandas as pd\n",
    "from sklearn.model_selection import train_test_split\n",
    "from sklearn.preprocessing import StandardScaler\n",
    "from sklearn.svm import SVC\n",
    "from sklearn.metrics import accuracy_score"
   ]
  },
  {
   "cell_type": "code",
   "execution_count": 364,
   "id": "2061caa9",
   "metadata": {},
   "outputs": [],
   "source": [
    "# Load the dataset\n",
    "dataset = pd.read_csv('AIGLOBALINDEX.csv')"
   ]
  },
  {
   "cell_type": "code",
   "execution_count": 365,
   "id": "a0559ab7",
   "metadata": {},
   "outputs": [],
   "source": [
    "# Split the data into features (X) and target variable (y)\n",
    "X = dataset.drop(['Country', 'Region', 'Cluster', 'Income group', 'Political regime'], axis=1)\n",
    "y = dataset['Cluster']"
   ]
  },
  {
   "cell_type": "code",
   "execution_count": 366,
   "id": "c4e5041a",
   "metadata": {},
   "outputs": [
    {
     "data": {
      "text/html": [
       "<div>\n",
       "<style scoped>\n",
       "    .dataframe tbody tr th:only-of-type {\n",
       "        vertical-align: middle;\n",
       "    }\n",
       "\n",
       "    .dataframe tbody tr th {\n",
       "        vertical-align: top;\n",
       "    }\n",
       "\n",
       "    .dataframe thead th {\n",
       "        text-align: right;\n",
       "    }\n",
       "</style>\n",
       "<table border=\"1\" class=\"dataframe\">\n",
       "  <thead>\n",
       "    <tr style=\"text-align: right;\">\n",
       "      <th></th>\n",
       "      <th>Talent</th>\n",
       "      <th>Infrastructure</th>\n",
       "      <th>Operating Environment</th>\n",
       "      <th>Research</th>\n",
       "      <th>Development</th>\n",
       "      <th>Government Strategy</th>\n",
       "      <th>Commercial</th>\n",
       "      <th>Total score</th>\n",
       "    </tr>\n",
       "  </thead>\n",
       "  <tbody>\n",
       "    <tr>\n",
       "      <th>0</th>\n",
       "      <td>100.00</td>\n",
       "      <td>94.02</td>\n",
       "      <td>64.56</td>\n",
       "      <td>100.00</td>\n",
       "      <td>100.00</td>\n",
       "      <td>77.39</td>\n",
       "      <td>100.00</td>\n",
       "      <td>100.00</td>\n",
       "    </tr>\n",
       "    <tr>\n",
       "      <th>1</th>\n",
       "      <td>16.51</td>\n",
       "      <td>100.00</td>\n",
       "      <td>91.57</td>\n",
       "      <td>71.42</td>\n",
       "      <td>79.97</td>\n",
       "      <td>94.87</td>\n",
       "      <td>44.02</td>\n",
       "      <td>62.92</td>\n",
       "    </tr>\n",
       "    <tr>\n",
       "      <th>2</th>\n",
       "      <td>39.65</td>\n",
       "      <td>71.43</td>\n",
       "      <td>74.65</td>\n",
       "      <td>36.50</td>\n",
       "      <td>25.03</td>\n",
       "      <td>82.82</td>\n",
       "      <td>18.91</td>\n",
       "      <td>40.93</td>\n",
       "    </tr>\n",
       "    <tr>\n",
       "      <th>3</th>\n",
       "      <td>31.28</td>\n",
       "      <td>77.05</td>\n",
       "      <td>93.94</td>\n",
       "      <td>30.67</td>\n",
       "      <td>25.78</td>\n",
       "      <td>100.00</td>\n",
       "      <td>14.88</td>\n",
       "      <td>40.19</td>\n",
       "    </tr>\n",
       "    <tr>\n",
       "      <th>4</th>\n",
       "      <td>35.76</td>\n",
       "      <td>67.58</td>\n",
       "      <td>82.44</td>\n",
       "      <td>32.63</td>\n",
       "      <td>27.96</td>\n",
       "      <td>43.91</td>\n",
       "      <td>27.33</td>\n",
       "      <td>39.89</td>\n",
       "    </tr>\n",
       "    <tr>\n",
       "      <th>...</th>\n",
       "      <td>...</td>\n",
       "      <td>...</td>\n",
       "      <td>...</td>\n",
       "      <td>...</td>\n",
       "      <td>...</td>\n",
       "      <td>...</td>\n",
       "      <td>...</td>\n",
       "      <td>...</td>\n",
       "    </tr>\n",
       "    <tr>\n",
       "      <th>57</th>\n",
       "      <td>6.27</td>\n",
       "      <td>34.64</td>\n",
       "      <td>35.79</td>\n",
       "      <td>0.12</td>\n",
       "      <td>0.95</td>\n",
       "      <td>35.57</td>\n",
       "      <td>0.09</td>\n",
       "      <td>6.62</td>\n",
       "    </tr>\n",
       "    <tr>\n",
       "      <th>58</th>\n",
       "      <td>1.11</td>\n",
       "      <td>38.84</td>\n",
       "      <td>0.00</td>\n",
       "      <td>2.08</td>\n",
       "      <td>1.54</td>\n",
       "      <td>68.72</td>\n",
       "      <td>0.31</td>\n",
       "      <td>4.83</td>\n",
       "    </tr>\n",
       "    <tr>\n",
       "      <th>59</th>\n",
       "      <td>0.75</td>\n",
       "      <td>14.11</td>\n",
       "      <td>29.84</td>\n",
       "      <td>0.07</td>\n",
       "      <td>12.15</td>\n",
       "      <td>7.75</td>\n",
       "      <td>0.31</td>\n",
       "      <td>2.30</td>\n",
       "    </tr>\n",
       "    <tr>\n",
       "      <th>60</th>\n",
       "      <td>2.74</td>\n",
       "      <td>0.00</td>\n",
       "      <td>50.10</td>\n",
       "      <td>0.45</td>\n",
       "      <td>2.06</td>\n",
       "      <td>7.75</td>\n",
       "      <td>0.33</td>\n",
       "      <td>1.38</td>\n",
       "    </tr>\n",
       "    <tr>\n",
       "      <th>61</th>\n",
       "      <td>8.00</td>\n",
       "      <td>2.43</td>\n",
       "      <td>12.48</td>\n",
       "      <td>2.17</td>\n",
       "      <td>1.09</td>\n",
       "      <td>13.92</td>\n",
       "      <td>0.27</td>\n",
       "      <td>0.00</td>\n",
       "    </tr>\n",
       "  </tbody>\n",
       "</table>\n",
       "<p>62 rows × 8 columns</p>\n",
       "</div>"
      ],
      "text/plain": [
       "    Talent  Infrastructure  Operating Environment  Research  Development  \\\n",
       "0   100.00           94.02                  64.56    100.00       100.00   \n",
       "1    16.51          100.00                  91.57     71.42        79.97   \n",
       "2    39.65           71.43                  74.65     36.50        25.03   \n",
       "3    31.28           77.05                  93.94     30.67        25.78   \n",
       "4    35.76           67.58                  82.44     32.63        27.96   \n",
       "..     ...             ...                    ...       ...          ...   \n",
       "57    6.27           34.64                  35.79      0.12         0.95   \n",
       "58    1.11           38.84                   0.00      2.08         1.54   \n",
       "59    0.75           14.11                  29.84      0.07        12.15   \n",
       "60    2.74            0.00                  50.10      0.45         2.06   \n",
       "61    8.00            2.43                  12.48      2.17         1.09   \n",
       "\n",
       "    Government Strategy  Commercial  Total score  \n",
       "0                 77.39      100.00       100.00  \n",
       "1                 94.87       44.02        62.92  \n",
       "2                 82.82       18.91        40.93  \n",
       "3                100.00       14.88        40.19  \n",
       "4                 43.91       27.33        39.89  \n",
       "..                  ...         ...          ...  \n",
       "57                35.57        0.09         6.62  \n",
       "58                68.72        0.31         4.83  \n",
       "59                 7.75        0.31         2.30  \n",
       "60                 7.75        0.33         1.38  \n",
       "61                13.92        0.27         0.00  \n",
       "\n",
       "[62 rows x 8 columns]"
      ]
     },
     "execution_count": 366,
     "metadata": {},
     "output_type": "execute_result"
    }
   ],
   "source": [
    "X"
   ]
  },
  {
   "cell_type": "code",
   "execution_count": 367,
   "id": "9f4ed19b",
   "metadata": {},
   "outputs": [
    {
     "data": {
      "text/plain": [
       "0             Power players\n",
       "1             Power players\n",
       "2     Traditional champions\n",
       "3     Traditional champions\n",
       "4              Rising stars\n",
       "              ...          \n",
       "57                  Nascent\n",
       "58                  Nascent\n",
       "59                  Nascent\n",
       "60                  Nascent\n",
       "61                  Nascent\n",
       "Name: Cluster, Length: 62, dtype: object"
      ]
     },
     "execution_count": 367,
     "metadata": {},
     "output_type": "execute_result"
    }
   ],
   "source": [
    "y"
   ]
  },
  {
   "cell_type": "code",
   "execution_count": 368,
   "id": "b27a281a",
   "metadata": {},
   "outputs": [],
   "source": [
    "# Split the data into training and testing sets\n",
    "X_train, X_test, y_train, y_test = train_test_split(X, y, test_size=0.2, random_state=42)"
   ]
  },
  {
   "cell_type": "code",
   "execution_count": 369,
   "id": "262e6352",
   "metadata": {},
   "outputs": [],
   "source": [
    "# Standardize the features\n",
    "scaler = StandardScaler()\n",
    "X_train_scaled = scaler.fit_transform(X_train)\n",
    "X_train_scaled = scaler.transform(X_test)"
   ]
  },
  {
   "cell_type": "code",
   "execution_count": 371,
   "id": "bdcf01ea",
   "metadata": {},
   "outputs": [
    {
     "name": "stdout",
     "output_type": "stream",
     "text": [
      "[[ 1.20346911e+00  4.63607511e-01  8.92388250e-01  7.28421133e-01\n",
      "  -2.91878503e-01  6.71254224e-01 -1.81466899e-01  6.66160599e-01]\n",
      " [-1.32142318e+00  7.30894556e-01  2.28029459e-01 -7.66858315e-01\n",
      "   9.47739647e-02  9.56635220e-01 -2.13063742e-01 -1.84481851e-01]\n",
      " [-2.06831087e-01 -5.62342220e-02  6.55582140e-01 -4.92580523e-01\n",
      "  -5.84353895e-01  5.29960696e-01 -3.67098348e-01 -2.09036478e-01]\n",
      " [ 1.63875971e+00  6.19875725e-01  1.32044158e+00  1.06213771e+00\n",
      "   6.94348517e-01  1.69982321e+00  1.32201618e+00  1.48347891e+00]\n",
      " [ 1.05458111e+00  6.92485198e-01 -1.17278132e+00  1.60424813e+00\n",
      "   5.38166658e-01 -1.80537386e+00  3.84643193e-01  6.11789638e-01]\n",
      " [-1.11877007e+00 -1.02804362e+00 -4.57356513e-01 -1.07479422e+00\n",
      "  -3.73771613e-01 -2.29151939e+00 -3.69731418e-01 -1.18946767e+00]\n",
      " [ 1.26137000e+00  6.28820370e-01  1.32906497e-01  1.43237693e+00\n",
      "   6.36438390e-01  1.08715212e+00  4.54419554e-01  1.11954425e+00]\n",
      " [-9.20632556e-02  1.05027101e+00  6.48184822e-02  7.74969583e-01\n",
      "   3.70509020e+00  1.20090539e+00  7.52574452e-02  1.34404371e+00]\n",
      " [-3.07123696e-01 -1.40945274e-01 -7.36717633e-01 -1.16612271e-01\n",
      "   3.25829524e-01  1.31665432e+00 -4.55306200e-01 -1.12571871e-01]\n",
      " [ 2.10196681e+00  1.21606371e-01  7.44697335e-01  1.20249920e+00\n",
      "   8.21867788e-01 -5.38920853e-01  2.96110238e+00  1.45717038e+00]\n",
      " [-7.26905133e-01 -4.79789481e-01  4.19777324e-01 -1.04471676e+00\n",
      "  -6.27055302e-01 -9.86757638e-02 -5.92225850e-01 -7.04513781e-01]\n",
      " [ 2.20187961e-01  1.62272830e+00 -4.03787266e-01  1.12229263e+00\n",
      "  -3.08842076e-01 -9.62801437e-01  6.07755591e-02  5.11817226e-01]\n",
      " [-1.02571507e+00 -9.33861764e-01 -8.20325710e-01 -1.06405227e+00\n",
      "  -6.07751926e-01  1.02887038e-01 -5.17183350e-01 -1.03512430e+00]\n",
      " [ 3.12209015e-01  3.77844148e-01 -1.32047223e+00  1.75568770e-01\n",
      "  -8.02540537e-01 -1.40743700e+00  1.18703103e-01 -3.03747184e-01]\n",
      " [-6.71072134e-01 -1.40371872e+00 -2.62604765e-01 -8.54942305e-01\n",
      "  -8.13654602e-01 -1.80537386e+00 -6.17240017e-01 -1.17543646e+00]\n",
      " [-5.26319914e-01  2.05265111e-01 -4.78383694e-01 -8.25580975e-01\n",
      "  -4.97781179e-01 -9.58818240e-02 -4.94802253e-01 -5.50170409e-01]\n",
      " [-1.48065062e+00 -1.39056483e+00 -3.38263791e+00 -9.85277966e-01\n",
      "  -7.23572181e-01  4.51331247e-01 -5.96175455e-01 -1.61741975e+00]\n",
      " [-2.58908124e-02  1.01607089e+00 -5.02414758e-01  4.77775632e-01\n",
      "   1.20267075e+00  5.80650747e-01  3.25399114e-01  6.36344265e-01]\n",
      " [-7.11395966e-01  4.79982762e-03  1.05860311e+00 -9.21542395e-01\n",
      "  -7.93766275e-01 -5.72448131e-01 -5.48780192e-01 -5.29123585e-01]\n",
      " [-1.26183422e-01  2.99446964e-01  1.60180529e+00 -3.75135203e-01\n",
      "  -2.81934340e-01  8.27315720e-01 -3.40767646e-01  1.68929394e-01]\n",
      " [-2.69247569e-02 -8.88021799e-03 -1.74490864e-01  4.51994951e-01\n",
      "   3.45132900e-01  2.46176237e-01  6.20920942e-02  1.96991825e-01]\n",
      " [ 1.25930211e+00  5.75152499e-01 -1.54776604e+00  3.82530341e-01\n",
      "  -2.04613396e-02  6.53684171e-02 -1.16956679e-01  2.18915599e-01]\n",
      " [-5.03573137e-01 -1.73566921e-01 -5.42466532e-01 -1.02752964e+00\n",
      "  -7.74462899e-01  1.23242885e-01 -2.48610189e-01 -6.96621222e-01]\n",
      " [ 1.49917721e+00  1.27493945e+00  1.29401967e-01  6.81492695e-02\n",
      "   9.90918565e-01  4.80068913e-01 -1.18273214e-01  8.56458961e-01]\n",
      " [ 4.54513529e-02  9.74032133e-02  1.69954387e-01 -7.07419524e-01\n",
      "  -1.28092284e-01  5.21978011e-01 -7.08779509e-02 -1.24849184e-01]\n",
      " [-1.24801312e+00 -1.07276684e+00 -3.70243906e-01 -1.02967803e+00\n",
      "  -8.10729848e-01 -1.65689592e+00 -6.23822693e-01 -1.26313155e+00]\n",
      " [-1.41758001e+00 -1.23219199e+00  1.47514155e+00 -5.53451574e-01\n",
      "  -5.52766552e-01 -1.27812565e-01 -5.34298306e-01 -6.83466958e-01]\n",
      " [-1.16877922e-01 -1.09375938e-01  6.56082787e-01 -9.03639145e-01\n",
      "  -4.52155018e-01  2.74115635e-01 -4.03961331e-01 -3.23040105e-01]\n",
      " [ 8.13672061e-01  2.37360603e-01  1.14070924e+00 -2.58406012e-01\n",
      "  -4.65023935e-01 -3.90842042e-01 -3.09170804e-01  1.40866962e-01]\n",
      " [-1.59541845e+00  1.42126439e-01 -2.49587939e-01 -2.79173782e-01\n",
      "  -8.13654602e-01 -9.54818752e-01 -6.36988044e-01 -7.55376938e-01]\n",
      " [ 1.11623796e-01  1.82740283e+00  1.20178820e+00  3.98036748e+00\n",
      "   3.86419681e+00  1.49506734e+00  5.15839946e+00  3.47678849e+00]\n",
      " [ 1.59185240e-01 -4.09757096e-02  4.37299975e-01  5.52969282e-01\n",
      "   2.28142743e-01  5.87835164e-01 -2.31495233e-01  3.17134109e-01]\n",
      " [ 2.50417120e+00  3.24176277e-01  3.54693192e-01  1.47964151e+00\n",
      "   6.50477209e-01  1.01411055e+00  1.85257983e+00  1.54837328e+00]\n",
      " [-8.42706908e-01 -3.41936713e-01  1.59440797e-01 -1.08195552e+00\n",
      "  -7.98445881e-01 -1.05739626e+00 -5.80377034e-01 -8.77273124e-01]\n",
      " [-8.07552798e-01 -5.17146528e-01  8.01771113e-01 -5.14444411e-02\n",
      "  -6.84380479e-01 -1.40743700e+00 -5.15866814e-01 -5.21231027e-01]\n",
      " [-4.46706193e-01 -5.30772884e-02  4.70843335e-01 -3.27870622e-01\n",
      "  -6.55717890e-01  5.13995325e-01 -4.06594401e-01 -2.59899635e-01]\n",
      " [-3.19531029e-01  6.62494328e-01 -5.45470415e-01  7.06937233e-01\n",
      "   3.55662014e-01 -5.75649350e-02 -3.03904663e-01  2.20669501e-01]\n",
      " [-1.31211768e+00 -3.43415318e+00 -8.74395604e-01 -1.10200716e+00\n",
      "  -6.93154740e-01 -1.98219034e+00 -5.93542385e-01 -1.91996784e+00]\n",
      " [ 1.03390222e+00 -9.67482033e-02 -3.17175306e-01  1.20249920e+00\n",
      "   1.59341787e+00  9.85772021e-01  2.47723543e-01  9.28368941e-01]\n",
      " [ 3.42193403e-01 -8.51727801e-02  1.05660052e+00 -2.92780252e-01\n",
      "  -2.69065423e-01  5.85440358e-01  1.00999737e+00  2.91702531e-01]\n",
      " [ 1.32133877e+00  5.22010783e-01 -3.98167757e-02  8.43001933e-01\n",
      "   2.28142743e-01 -6.81012649e-01 -4.32307138e-02  5.76711599e-01]\n",
      " [-7.68262910e-01 -3.30629737e+00 -2.75783025e+00 -9.78832796e-01\n",
      "  -7.49894966e-01 -1.73592450e+00 -6.01441596e-01 -2.04098707e+00]\n",
      " [ 2.25357683e-01  4.23619686e-01  3.90239141e-01  1.97768800e-01\n",
      "  -1.77813100e-01  1.35177814e+00 -2.31495233e-01  3.22395815e-01]\n",
      " [ 1.90241554e+00  8.79796591e-01  1.02556040e+00  6.94763023e-01\n",
      "   9.51141911e-01  1.97082723e-01  1.73299008e-02  1.14672973e+00]\n",
      " [-5.15980470e-01 -1.69883832e-01  2.84101942e-01 -7.35348595e-01\n",
      "  -7.62178933e-01 -3.91640311e-01 -5.54046332e-01 -5.79986742e-01]\n",
      " [ 6.44105175e-01  1.55801116e+00 -3.03044796e-02  2.54343070e-01\n",
      "   3.53322211e-01  3.70306992e-01 -2.08496171e-02  6.53883285e-01]\n",
      " [-2.49222808e-01  3.57324080e-01  1.35098106e+00  2.33575300e-01\n",
      "  -7.51649819e-01  9.16721794e-01 -5.56679402e-01  1.68052443e-01]\n",
      " [-9.39897684e-01 -5.00309549e-01 -1.49970392e+00 -9.88858616e-01\n",
      "  -7.96106078e-01  4.56919126e-01 -5.96175455e-01 -1.02197004e+00]\n",
      " [-2.03729254e-01 -1.39892963e-01  2.63074760e-01 -7.88342215e-01\n",
      "  -5.17084555e-01  4.11417821e-01 -4.57939270e-01 -3.84426674e-01]]\n"
     ]
    }
   ],
   "source": [
    "print(X_train_scaled)"
   ]
  },
  {
   "cell_type": "code",
   "execution_count": 372,
   "id": "d6c3215e",
   "metadata": {},
   "outputs": [
    {
     "data": {
      "text/plain": [
       "SVC(random_state=42)"
      ]
     },
     "execution_count": 372,
     "metadata": {},
     "output_type": "execute_result"
    }
   ],
   "source": [
    "# Train the Support Vector Machine model\n",
    "svm = SVC(kernel='rbf', random_state=42)\n",
    "svm.fit(X_train_scaled, y_train)\n"
   ]
  },
  {
   "cell_type": "code",
   "execution_count": 373,
   "id": "dfe387fc",
   "metadata": {},
   "outputs": [],
   "source": [
    "# Predict the target variable for the test set\n",
    "y_pred = svm.predict(X_test_scaled)"
   ]
  },
  {
   "cell_type": "code",
   "execution_count": 374,
   "id": "dfdf2070",
   "metadata": {},
   "outputs": [
    {
     "data": {
      "text/plain": [
       "array(['Waking up', 'Waking up', 'Waking up', 'Waking up', 'Rising stars',\n",
       "       'Waking up', 'Rising stars', 'Rising stars', 'Waking up',\n",
       "       'Nascent', 'Waking up', 'Rising stars', 'Waking up'], dtype=object)"
      ]
     },
     "execution_count": 374,
     "metadata": {},
     "output_type": "execute_result"
    }
   ],
   "source": [
    "y_pred"
   ]
  },
  {
   "cell_type": "code",
   "execution_count": 375,
   "id": "b5c44dc9",
   "metadata": {},
   "outputs": [
    {
     "name": "stdout",
     "output_type": "stream",
     "text": [
      "Accuracy: 0.6923076923076923\n"
     ]
    }
   ],
   "source": [
    "# Evaluate the model's accuracy\n",
    "accuracy = accuracy_score(y_test, y_pred)\n",
    "print(\"Accuracy:\", accuracy)"
   ]
  },
  {
   "cell_type": "markdown",
   "id": "d66cb9e0",
   "metadata": {},
   "source": [
    "# Regression models\n",
    "## Linear regression"
   ]
  },
  {
   "cell_type": "code",
   "execution_count": 377,
   "id": "ee57b59c",
   "metadata": {},
   "outputs": [],
   "source": [
    "import pandas as pd\n",
    "from sklearn.model_selection import train_test_split\n",
    "from sklearn.linear_model import LinearRegression\n",
    "from sklearn.metrics import mean_squared_error"
   ]
  },
  {
   "cell_type": "code",
   "execution_count": 378,
   "id": "646b6800",
   "metadata": {},
   "outputs": [],
   "source": [
    "# Load the dataset\n",
    "dataset = pd.read_csv('AIGLOBALINDEX.csv')"
   ]
  },
  {
   "cell_type": "code",
   "execution_count": 380,
   "id": "b8b169c8",
   "metadata": {},
   "outputs": [
    {
     "data": {
      "text/html": [
       "<div>\n",
       "<style scoped>\n",
       "    .dataframe tbody tr th:only-of-type {\n",
       "        vertical-align: middle;\n",
       "    }\n",
       "\n",
       "    .dataframe tbody tr th {\n",
       "        vertical-align: top;\n",
       "    }\n",
       "\n",
       "    .dataframe thead th {\n",
       "        text-align: right;\n",
       "    }\n",
       "</style>\n",
       "<table border=\"1\" class=\"dataframe\">\n",
       "  <thead>\n",
       "    <tr style=\"text-align: right;\">\n",
       "      <th></th>\n",
       "      <th>Country</th>\n",
       "      <th>Talent</th>\n",
       "      <th>Infrastructure</th>\n",
       "      <th>Operating Environment</th>\n",
       "      <th>Research</th>\n",
       "      <th>Development</th>\n",
       "      <th>Government Strategy</th>\n",
       "      <th>Commercial</th>\n",
       "      <th>Total score</th>\n",
       "      <th>Region</th>\n",
       "      <th>Cluster</th>\n",
       "      <th>Income group</th>\n",
       "      <th>Political regime</th>\n",
       "    </tr>\n",
       "  </thead>\n",
       "  <tbody>\n",
       "    <tr>\n",
       "      <th>0</th>\n",
       "      <td>United States of America</td>\n",
       "      <td>100.00</td>\n",
       "      <td>94.02</td>\n",
       "      <td>64.56</td>\n",
       "      <td>100.00</td>\n",
       "      <td>100.00</td>\n",
       "      <td>77.39</td>\n",
       "      <td>100.00</td>\n",
       "      <td>100.00</td>\n",
       "      <td>Americas</td>\n",
       "      <td>Power players</td>\n",
       "      <td>High</td>\n",
       "      <td>Liberal democracy</td>\n",
       "    </tr>\n",
       "    <tr>\n",
       "      <th>1</th>\n",
       "      <td>China</td>\n",
       "      <td>16.51</td>\n",
       "      <td>100.00</td>\n",
       "      <td>91.57</td>\n",
       "      <td>71.42</td>\n",
       "      <td>79.97</td>\n",
       "      <td>94.87</td>\n",
       "      <td>44.02</td>\n",
       "      <td>62.92</td>\n",
       "      <td>Asia-Pacific</td>\n",
       "      <td>Power players</td>\n",
       "      <td>Upper middle</td>\n",
       "      <td>Closed autocracy</td>\n",
       "    </tr>\n",
       "    <tr>\n",
       "      <th>2</th>\n",
       "      <td>United Kingdom</td>\n",
       "      <td>39.65</td>\n",
       "      <td>71.43</td>\n",
       "      <td>74.65</td>\n",
       "      <td>36.50</td>\n",
       "      <td>25.03</td>\n",
       "      <td>82.82</td>\n",
       "      <td>18.91</td>\n",
       "      <td>40.93</td>\n",
       "      <td>Europe</td>\n",
       "      <td>Traditional champions</td>\n",
       "      <td>High</td>\n",
       "      <td>Liberal democracy</td>\n",
       "    </tr>\n",
       "    <tr>\n",
       "      <th>3</th>\n",
       "      <td>Canada</td>\n",
       "      <td>31.28</td>\n",
       "      <td>77.05</td>\n",
       "      <td>93.94</td>\n",
       "      <td>30.67</td>\n",
       "      <td>25.78</td>\n",
       "      <td>100.00</td>\n",
       "      <td>14.88</td>\n",
       "      <td>40.19</td>\n",
       "      <td>Americas</td>\n",
       "      <td>Traditional champions</td>\n",
       "      <td>High</td>\n",
       "      <td>Liberal democracy</td>\n",
       "    </tr>\n",
       "    <tr>\n",
       "      <th>4</th>\n",
       "      <td>Israel</td>\n",
       "      <td>35.76</td>\n",
       "      <td>67.58</td>\n",
       "      <td>82.44</td>\n",
       "      <td>32.63</td>\n",
       "      <td>27.96</td>\n",
       "      <td>43.91</td>\n",
       "      <td>27.33</td>\n",
       "      <td>39.89</td>\n",
       "      <td>Middle East</td>\n",
       "      <td>Rising stars</td>\n",
       "      <td>High</td>\n",
       "      <td>Liberal democracy</td>\n",
       "    </tr>\n",
       "  </tbody>\n",
       "</table>\n",
       "</div>"
      ],
      "text/plain": [
       "                    Country  Talent  Infrastructure  Operating Environment  \\\n",
       "0  United States of America  100.00           94.02                  64.56   \n",
       "1                     China   16.51          100.00                  91.57   \n",
       "2            United Kingdom   39.65           71.43                  74.65   \n",
       "3                    Canada   31.28           77.05                  93.94   \n",
       "4                    Israel   35.76           67.58                  82.44   \n",
       "\n",
       "   Research  Development  Government Strategy  Commercial  Total score  \\\n",
       "0    100.00       100.00                77.39      100.00       100.00   \n",
       "1     71.42        79.97                94.87       44.02        62.92   \n",
       "2     36.50        25.03                82.82       18.91        40.93   \n",
       "3     30.67        25.78               100.00       14.88        40.19   \n",
       "4     32.63        27.96                43.91       27.33        39.89   \n",
       "\n",
       "         Region                Cluster  Income group   Political regime  \n",
       "0      Americas          Power players          High  Liberal democracy  \n",
       "1  Asia-Pacific          Power players  Upper middle   Closed autocracy  \n",
       "2        Europe  Traditional champions          High  Liberal democracy  \n",
       "3      Americas  Traditional champions          High  Liberal democracy  \n",
       "4   Middle East           Rising stars          High  Liberal democracy  "
      ]
     },
     "execution_count": 380,
     "metadata": {},
     "output_type": "execute_result"
    }
   ],
   "source": [
    "dataset.head()"
   ]
  },
  {
   "cell_type": "code",
   "execution_count": 381,
   "id": "8333c343",
   "metadata": {},
   "outputs": [],
   "source": [
    "# Transform categorical variables to continuous numerical values\n",
    "dataset['Cluster'] = dataset['Cluster'].astype('category').cat.codes\n"
   ]
  },
  {
   "cell_type": "code",
   "execution_count": 397,
   "id": "fa8787dd",
   "metadata": {},
   "outputs": [],
   "source": [
    "# Split the data into features (X) and target variable (y)\n",
    "X = dataset.drop(['Country', 'Region', 'Cluster', 'Income group','Political regime' ], axis=1)\n",
    "y = dataset['Talent']"
   ]
  },
  {
   "cell_type": "code",
   "execution_count": 398,
   "id": "062be04c",
   "metadata": {},
   "outputs": [
    {
     "data": {
      "text/html": [
       "<div>\n",
       "<style scoped>\n",
       "    .dataframe tbody tr th:only-of-type {\n",
       "        vertical-align: middle;\n",
       "    }\n",
       "\n",
       "    .dataframe tbody tr th {\n",
       "        vertical-align: top;\n",
       "    }\n",
       "\n",
       "    .dataframe thead th {\n",
       "        text-align: right;\n",
       "    }\n",
       "</style>\n",
       "<table border=\"1\" class=\"dataframe\">\n",
       "  <thead>\n",
       "    <tr style=\"text-align: right;\">\n",
       "      <th></th>\n",
       "      <th>Talent</th>\n",
       "      <th>Infrastructure</th>\n",
       "      <th>Operating Environment</th>\n",
       "      <th>Research</th>\n",
       "      <th>Development</th>\n",
       "      <th>Government Strategy</th>\n",
       "      <th>Commercial</th>\n",
       "      <th>Total score</th>\n",
       "    </tr>\n",
       "  </thead>\n",
       "  <tbody>\n",
       "    <tr>\n",
       "      <th>0</th>\n",
       "      <td>100.00</td>\n",
       "      <td>94.02</td>\n",
       "      <td>64.56</td>\n",
       "      <td>100.00</td>\n",
       "      <td>100.00</td>\n",
       "      <td>77.39</td>\n",
       "      <td>100.00</td>\n",
       "      <td>100.00</td>\n",
       "    </tr>\n",
       "    <tr>\n",
       "      <th>1</th>\n",
       "      <td>16.51</td>\n",
       "      <td>100.00</td>\n",
       "      <td>91.57</td>\n",
       "      <td>71.42</td>\n",
       "      <td>79.97</td>\n",
       "      <td>94.87</td>\n",
       "      <td>44.02</td>\n",
       "      <td>62.92</td>\n",
       "    </tr>\n",
       "    <tr>\n",
       "      <th>2</th>\n",
       "      <td>39.65</td>\n",
       "      <td>71.43</td>\n",
       "      <td>74.65</td>\n",
       "      <td>36.50</td>\n",
       "      <td>25.03</td>\n",
       "      <td>82.82</td>\n",
       "      <td>18.91</td>\n",
       "      <td>40.93</td>\n",
       "    </tr>\n",
       "    <tr>\n",
       "      <th>3</th>\n",
       "      <td>31.28</td>\n",
       "      <td>77.05</td>\n",
       "      <td>93.94</td>\n",
       "      <td>30.67</td>\n",
       "      <td>25.78</td>\n",
       "      <td>100.00</td>\n",
       "      <td>14.88</td>\n",
       "      <td>40.19</td>\n",
       "    </tr>\n",
       "    <tr>\n",
       "      <th>4</th>\n",
       "      <td>35.76</td>\n",
       "      <td>67.58</td>\n",
       "      <td>82.44</td>\n",
       "      <td>32.63</td>\n",
       "      <td>27.96</td>\n",
       "      <td>43.91</td>\n",
       "      <td>27.33</td>\n",
       "      <td>39.89</td>\n",
       "    </tr>\n",
       "    <tr>\n",
       "      <th>...</th>\n",
       "      <td>...</td>\n",
       "      <td>...</td>\n",
       "      <td>...</td>\n",
       "      <td>...</td>\n",
       "      <td>...</td>\n",
       "      <td>...</td>\n",
       "      <td>...</td>\n",
       "      <td>...</td>\n",
       "    </tr>\n",
       "    <tr>\n",
       "      <th>57</th>\n",
       "      <td>6.27</td>\n",
       "      <td>34.64</td>\n",
       "      <td>35.79</td>\n",
       "      <td>0.12</td>\n",
       "      <td>0.95</td>\n",
       "      <td>35.57</td>\n",
       "      <td>0.09</td>\n",
       "      <td>6.62</td>\n",
       "    </tr>\n",
       "    <tr>\n",
       "      <th>58</th>\n",
       "      <td>1.11</td>\n",
       "      <td>38.84</td>\n",
       "      <td>0.00</td>\n",
       "      <td>2.08</td>\n",
       "      <td>1.54</td>\n",
       "      <td>68.72</td>\n",
       "      <td>0.31</td>\n",
       "      <td>4.83</td>\n",
       "    </tr>\n",
       "    <tr>\n",
       "      <th>59</th>\n",
       "      <td>0.75</td>\n",
       "      <td>14.11</td>\n",
       "      <td>29.84</td>\n",
       "      <td>0.07</td>\n",
       "      <td>12.15</td>\n",
       "      <td>7.75</td>\n",
       "      <td>0.31</td>\n",
       "      <td>2.30</td>\n",
       "    </tr>\n",
       "    <tr>\n",
       "      <th>60</th>\n",
       "      <td>2.74</td>\n",
       "      <td>0.00</td>\n",
       "      <td>50.10</td>\n",
       "      <td>0.45</td>\n",
       "      <td>2.06</td>\n",
       "      <td>7.75</td>\n",
       "      <td>0.33</td>\n",
       "      <td>1.38</td>\n",
       "    </tr>\n",
       "    <tr>\n",
       "      <th>61</th>\n",
       "      <td>8.00</td>\n",
       "      <td>2.43</td>\n",
       "      <td>12.48</td>\n",
       "      <td>2.17</td>\n",
       "      <td>1.09</td>\n",
       "      <td>13.92</td>\n",
       "      <td>0.27</td>\n",
       "      <td>0.00</td>\n",
       "    </tr>\n",
       "  </tbody>\n",
       "</table>\n",
       "<p>62 rows × 8 columns</p>\n",
       "</div>"
      ],
      "text/plain": [
       "    Talent  Infrastructure  Operating Environment  Research  Development  \\\n",
       "0   100.00           94.02                  64.56    100.00       100.00   \n",
       "1    16.51          100.00                  91.57     71.42        79.97   \n",
       "2    39.65           71.43                  74.65     36.50        25.03   \n",
       "3    31.28           77.05                  93.94     30.67        25.78   \n",
       "4    35.76           67.58                  82.44     32.63        27.96   \n",
       "..     ...             ...                    ...       ...          ...   \n",
       "57    6.27           34.64                  35.79      0.12         0.95   \n",
       "58    1.11           38.84                   0.00      2.08         1.54   \n",
       "59    0.75           14.11                  29.84      0.07        12.15   \n",
       "60    2.74            0.00                  50.10      0.45         2.06   \n",
       "61    8.00            2.43                  12.48      2.17         1.09   \n",
       "\n",
       "    Government Strategy  Commercial  Total score  \n",
       "0                 77.39      100.00       100.00  \n",
       "1                 94.87       44.02        62.92  \n",
       "2                 82.82       18.91        40.93  \n",
       "3                100.00       14.88        40.19  \n",
       "4                 43.91       27.33        39.89  \n",
       "..                  ...         ...          ...  \n",
       "57                35.57        0.09         6.62  \n",
       "58                68.72        0.31         4.83  \n",
       "59                 7.75        0.31         2.30  \n",
       "60                 7.75        0.33         1.38  \n",
       "61                13.92        0.27         0.00  \n",
       "\n",
       "[62 rows x 8 columns]"
      ]
     },
     "execution_count": 398,
     "metadata": {},
     "output_type": "execute_result"
    }
   ],
   "source": [
    "X\n"
   ]
  },
  {
   "cell_type": "code",
   "execution_count": 399,
   "id": "fc830996",
   "metadata": {},
   "outputs": [
    {
     "data": {
      "text/plain": [
       "0     100.00\n",
       "1      16.51\n",
       "2      39.65\n",
       "3      31.28\n",
       "4      35.76\n",
       "       ...  \n",
       "57      6.27\n",
       "58      1.11\n",
       "59      0.75\n",
       "60      2.74\n",
       "61      8.00\n",
       "Name: Talent, Length: 62, dtype: float64"
      ]
     },
     "execution_count": 399,
     "metadata": {},
     "output_type": "execute_result"
    }
   ],
   "source": [
    "y"
   ]
  },
  {
   "cell_type": "code",
   "execution_count": 400,
   "id": "772de1cd",
   "metadata": {},
   "outputs": [],
   "source": [
    "# Split the data into training and testing sets\n",
    "X_train, X_test, y_train, y_test = train_test_split(X, y, test_size=0.2, random_state=42)\n"
   ]
  },
  {
   "cell_type": "code",
   "execution_count": 401,
   "id": "9116a4c1",
   "metadata": {},
   "outputs": [
    {
     "data": {
      "text/plain": [
       "LinearRegression()"
      ]
     },
     "execution_count": 401,
     "metadata": {},
     "output_type": "execute_result"
    }
   ],
   "source": [
    "# Initialize and train the linear regression model\n",
    "model = LinearRegression()\n",
    "model.fit(X_train, y_train)"
   ]
  },
  {
   "cell_type": "code",
   "execution_count": 402,
   "id": "8ff238e8",
   "metadata": {},
   "outputs": [],
   "source": [
    "# Make predictions on the test set\n",
    "y_pred = model.predict(X_test)\n"
   ]
  },
  {
   "cell_type": "code",
   "execution_count": 403,
   "id": "d79ef55b",
   "metadata": {},
   "outputs": [
    {
     "data": {
      "text/plain": [
       "array([  4.99,   6.69, 100.  ,   6.27,  39.38,   4.97,  45.27,  24.99,\n",
       "         4.49,   0.75,  11.09,  28.32,   8.49])"
      ]
     },
     "execution_count": 403,
     "metadata": {},
     "output_type": "execute_result"
    }
   ],
   "source": [
    "y_pred"
   ]
  },
  {
   "cell_type": "code",
   "execution_count": 404,
   "id": "e3dfa022",
   "metadata": {},
   "outputs": [
    {
     "name": "stdout",
     "output_type": "stream",
     "text": [
      "Mean Squared Error: 1.2048712547099195e-28\n"
     ]
    }
   ],
   "source": [
    "# Evaluate the model\n",
    "mse = mean_squared_error(y_test, y_pred)\n",
    "print('Mean Squared Error:', mse)"
   ]
  },
  {
   "cell_type": "code",
   "execution_count": 405,
   "id": "67277eca",
   "metadata": {},
   "outputs": [
    {
     "data": {
      "image/png": "[encoded data removed]",
      "text/plain": [
       "<Figure size 640x480 with 1 Axes>"
      ]
     },
     "metadata": {},
     "output_type": "display_data"
    }
   ],
   "source": [
    "import matplotlib.pyplot as plt\n",
    "\n",
    "# Plot the predicted values against the actual values\n",
    "plt.scatter(y_test, y_pred)\n",
    "plt.xlabel('Actual Values')\n",
    "plt.ylabel('Predicted Values')\n",
    "plt.title('Linear Regression: Actual vs. Predicted')\n",
    "plt.show()"
   ]
  },
  {
   "cell_type": "code",
   "execution_count": 466,
   "id": "ca87ce69",
   "metadata": {},
   "outputs": [
    {
     "data": {
      "text/plain": [
       "<matplotlib.collections.PathCollection at 0x13fee57e250>"
      ]
     },
     "execution_count": 466,
     "metadata": {},
     "output_type": "execute_result"
    },
    {
     "data": {
      "image/png": "[encoded data removed]",
      "text/plain": [
       "<Figure size 640x480 with 1 Axes>"
      ]
     },
     "metadata": {},
     "output_type": "display_data"
    }
   ],
   "source": [
    " #Plot the actual values\n",
    "plt.scatter(np.arange(len(y_test)), y_test, color='blue', label='Actual')"
   ]
  },
  {
   "cell_type": "code",
   "execution_count": null,
   "id": "cb9a687b",
   "metadata": {},
   "outputs": [],
   "source": []
  },
  {
   "cell_type": "markdown",
   "id": "6f4f57a0",
   "metadata": {},
   "source": [
    "# Ridge regression "
   ]
  },
  {
   "cell_type": "code",
   "execution_count": 436,
   "id": "d2affd0c",
   "metadata": {},
   "outputs": [],
   "source": [
    "import pandas as pd\n",
    "from sklearn.model_selection import train_test_split\n",
    "from sklearn.linear_model import Ridge\n",
    "from sklearn.metrics import mean_squared_error\n",
    "import matplotlib.pyplot as plt\n",
    "import numpy as np"
   ]
  },
  {
   "cell_type": "code",
   "execution_count": 421,
   "id": "1cf07f6d",
   "metadata": {},
   "outputs": [],
   "source": [
    "# Load the dataset\n",
    "df = pd.read_csv('AIGLOBALINDEX.csv')"
   ]
  },
  {
   "cell_type": "code",
   "execution_count": 422,
   "id": "9c490172",
   "metadata": {},
   "outputs": [
    {
     "data": {
      "text/html": [
       "<div>\n",
       "<style scoped>\n",
       "    .dataframe tbody tr th:only-of-type {\n",
       "        vertical-align: middle;\n",
       "    }\n",
       "\n",
       "    .dataframe tbody tr th {\n",
       "        vertical-align: top;\n",
       "    }\n",
       "\n",
       "    .dataframe thead th {\n",
       "        text-align: right;\n",
       "    }\n",
       "</style>\n",
       "<table border=\"1\" class=\"dataframe\">\n",
       "  <thead>\n",
       "    <tr style=\"text-align: right;\">\n",
       "      <th></th>\n",
       "      <th>Country</th>\n",
       "      <th>Talent</th>\n",
       "      <th>Infrastructure</th>\n",
       "      <th>Operating Environment</th>\n",
       "      <th>Research</th>\n",
       "      <th>Development</th>\n",
       "      <th>Government Strategy</th>\n",
       "      <th>Commercial</th>\n",
       "      <th>Total score</th>\n",
       "      <th>Region</th>\n",
       "      <th>Cluster</th>\n",
       "      <th>Income group</th>\n",
       "      <th>Political regime</th>\n",
       "    </tr>\n",
       "  </thead>\n",
       "  <tbody>\n",
       "    <tr>\n",
       "      <th>0</th>\n",
       "      <td>United States of America</td>\n",
       "      <td>100.00</td>\n",
       "      <td>94.02</td>\n",
       "      <td>64.56</td>\n",
       "      <td>100.00</td>\n",
       "      <td>100.00</td>\n",
       "      <td>77.39</td>\n",
       "      <td>100.00</td>\n",
       "      <td>100.00</td>\n",
       "      <td>Americas</td>\n",
       "      <td>Power players</td>\n",
       "      <td>High</td>\n",
       "      <td>Liberal democracy</td>\n",
       "    </tr>\n",
       "    <tr>\n",
       "      <th>1</th>\n",
       "      <td>China</td>\n",
       "      <td>16.51</td>\n",
       "      <td>100.00</td>\n",
       "      <td>91.57</td>\n",
       "      <td>71.42</td>\n",
       "      <td>79.97</td>\n",
       "      <td>94.87</td>\n",
       "      <td>44.02</td>\n",
       "      <td>62.92</td>\n",
       "      <td>Asia-Pacific</td>\n",
       "      <td>Power players</td>\n",
       "      <td>Upper middle</td>\n",
       "      <td>Closed autocracy</td>\n",
       "    </tr>\n",
       "    <tr>\n",
       "      <th>2</th>\n",
       "      <td>United Kingdom</td>\n",
       "      <td>39.65</td>\n",
       "      <td>71.43</td>\n",
       "      <td>74.65</td>\n",
       "      <td>36.50</td>\n",
       "      <td>25.03</td>\n",
       "      <td>82.82</td>\n",
       "      <td>18.91</td>\n",
       "      <td>40.93</td>\n",
       "      <td>Europe</td>\n",
       "      <td>Traditional champions</td>\n",
       "      <td>High</td>\n",
       "      <td>Liberal democracy</td>\n",
       "    </tr>\n",
       "    <tr>\n",
       "      <th>3</th>\n",
       "      <td>Canada</td>\n",
       "      <td>31.28</td>\n",
       "      <td>77.05</td>\n",
       "      <td>93.94</td>\n",
       "      <td>30.67</td>\n",
       "      <td>25.78</td>\n",
       "      <td>100.00</td>\n",
       "      <td>14.88</td>\n",
       "      <td>40.19</td>\n",
       "      <td>Americas</td>\n",
       "      <td>Traditional champions</td>\n",
       "      <td>High</td>\n",
       "      <td>Liberal democracy</td>\n",
       "    </tr>\n",
       "    <tr>\n",
       "      <th>4</th>\n",
       "      <td>Israel</td>\n",
       "      <td>35.76</td>\n",
       "      <td>67.58</td>\n",
       "      <td>82.44</td>\n",
       "      <td>32.63</td>\n",
       "      <td>27.96</td>\n",
       "      <td>43.91</td>\n",
       "      <td>27.33</td>\n",
       "      <td>39.89</td>\n",
       "      <td>Middle East</td>\n",
       "      <td>Rising stars</td>\n",
       "      <td>High</td>\n",
       "      <td>Liberal democracy</td>\n",
       "    </tr>\n",
       "  </tbody>\n",
       "</table>\n",
       "</div>"
      ],
      "text/plain": [
       "                    Country  Talent  Infrastructure  Operating Environment  \\\n",
       "0  United States of America  100.00           94.02                  64.56   \n",
       "1                     China   16.51          100.00                  91.57   \n",
       "2            United Kingdom   39.65           71.43                  74.65   \n",
       "3                    Canada   31.28           77.05                  93.94   \n",
       "4                    Israel   35.76           67.58                  82.44   \n",
       "\n",
       "   Research  Development  Government Strategy  Commercial  Total score  \\\n",
       "0    100.00       100.00                77.39      100.00       100.00   \n",
       "1     71.42        79.97                94.87       44.02        62.92   \n",
       "2     36.50        25.03                82.82       18.91        40.93   \n",
       "3     30.67        25.78               100.00       14.88        40.19   \n",
       "4     32.63        27.96                43.91       27.33        39.89   \n",
       "\n",
       "         Region                Cluster  Income group   Political regime  \n",
       "0      Americas          Power players          High  Liberal democracy  \n",
       "1  Asia-Pacific          Power players  Upper middle   Closed autocracy  \n",
       "2        Europe  Traditional champions          High  Liberal democracy  \n",
       "3      Americas  Traditional champions          High  Liberal democracy  \n",
       "4   Middle East           Rising stars          High  Liberal democracy  "
      ]
     },
     "execution_count": 422,
     "metadata": {},
     "output_type": "execute_result"
    }
   ],
   "source": [
    "df.head()"
   ]
  },
  {
   "cell_type": "code",
   "execution_count": 428,
   "id": "094aecc1",
   "metadata": {},
   "outputs": [],
   "source": [
    "# Split the data into features (X) and target variable (y)\n",
    "X = dataset.drop(['Country', 'Region', 'Cluster', 'Income group','Political regime' ], axis=1)\n",
    "y = dataset['Talent']\n"
   ]
  },
  {
   "cell_type": "code",
   "execution_count": 429,
   "id": "fc2bdb13",
   "metadata": {},
   "outputs": [
    {
     "data": {
      "text/html": [
       "<div>\n",
       "<style scoped>\n",
       "    .dataframe tbody tr th:only-of-type {\n",
       "        vertical-align: middle;\n",
       "    }\n",
       "\n",
       "    .dataframe tbody tr th {\n",
       "        vertical-align: top;\n",
       "    }\n",
       "\n",
       "    .dataframe thead th {\n",
       "        text-align: right;\n",
       "    }\n",
       "</style>\n",
       "<table border=\"1\" class=\"dataframe\">\n",
       "  <thead>\n",
       "    <tr style=\"text-align: right;\">\n",
       "      <th></th>\n",
       "      <th>Talent</th>\n",
       "      <th>Infrastructure</th>\n",
       "      <th>Operating Environment</th>\n",
       "      <th>Research</th>\n",
       "      <th>Development</th>\n",
       "      <th>Government Strategy</th>\n",
       "      <th>Commercial</th>\n",
       "      <th>Total score</th>\n",
       "    </tr>\n",
       "  </thead>\n",
       "  <tbody>\n",
       "    <tr>\n",
       "      <th>0</th>\n",
       "      <td>100.00</td>\n",
       "      <td>94.02</td>\n",
       "      <td>64.56</td>\n",
       "      <td>100.00</td>\n",
       "      <td>100.00</td>\n",
       "      <td>77.39</td>\n",
       "      <td>100.00</td>\n",
       "      <td>100.00</td>\n",
       "    </tr>\n",
       "    <tr>\n",
       "      <th>1</th>\n",
       "      <td>16.51</td>\n",
       "      <td>100.00</td>\n",
       "      <td>91.57</td>\n",
       "      <td>71.42</td>\n",
       "      <td>79.97</td>\n",
       "      <td>94.87</td>\n",
       "      <td>44.02</td>\n",
       "      <td>62.92</td>\n",
       "    </tr>\n",
       "    <tr>\n",
       "      <th>2</th>\n",
       "      <td>39.65</td>\n",
       "      <td>71.43</td>\n",
       "      <td>74.65</td>\n",
       "      <td>36.50</td>\n",
       "      <td>25.03</td>\n",
       "      <td>82.82</td>\n",
       "      <td>18.91</td>\n",
       "      <td>40.93</td>\n",
       "    </tr>\n",
       "    <tr>\n",
       "      <th>3</th>\n",
       "      <td>31.28</td>\n",
       "      <td>77.05</td>\n",
       "      <td>93.94</td>\n",
       "      <td>30.67</td>\n",
       "      <td>25.78</td>\n",
       "      <td>100.00</td>\n",
       "      <td>14.88</td>\n",
       "      <td>40.19</td>\n",
       "    </tr>\n",
       "    <tr>\n",
       "      <th>4</th>\n",
       "      <td>35.76</td>\n",
       "      <td>67.58</td>\n",
       "      <td>82.44</td>\n",
       "      <td>32.63</td>\n",
       "      <td>27.96</td>\n",
       "      <td>43.91</td>\n",
       "      <td>27.33</td>\n",
       "      <td>39.89</td>\n",
       "    </tr>\n",
       "    <tr>\n",
       "      <th>...</th>\n",
       "      <td>...</td>\n",
       "      <td>...</td>\n",
       "      <td>...</td>\n",
       "      <td>...</td>\n",
       "      <td>...</td>\n",
       "      <td>...</td>\n",
       "      <td>...</td>\n",
       "      <td>...</td>\n",
       "    </tr>\n",
       "    <tr>\n",
       "      <th>57</th>\n",
       "      <td>6.27</td>\n",
       "      <td>34.64</td>\n",
       "      <td>35.79</td>\n",
       "      <td>0.12</td>\n",
       "      <td>0.95</td>\n",
       "      <td>35.57</td>\n",
       "      <td>0.09</td>\n",
       "      <td>6.62</td>\n",
       "    </tr>\n",
       "    <tr>\n",
       "      <th>58</th>\n",
       "      <td>1.11</td>\n",
       "      <td>38.84</td>\n",
       "      <td>0.00</td>\n",
       "      <td>2.08</td>\n",
       "      <td>1.54</td>\n",
       "      <td>68.72</td>\n",
       "      <td>0.31</td>\n",
       "      <td>4.83</td>\n",
       "    </tr>\n",
       "    <tr>\n",
       "      <th>59</th>\n",
       "      <td>0.75</td>\n",
       "      <td>14.11</td>\n",
       "      <td>29.84</td>\n",
       "      <td>0.07</td>\n",
       "      <td>12.15</td>\n",
       "      <td>7.75</td>\n",
       "      <td>0.31</td>\n",
       "      <td>2.30</td>\n",
       "    </tr>\n",
       "    <tr>\n",
       "      <th>60</th>\n",
       "      <td>2.74</td>\n",
       "      <td>0.00</td>\n",
       "      <td>50.10</td>\n",
       "      <td>0.45</td>\n",
       "      <td>2.06</td>\n",
       "      <td>7.75</td>\n",
       "      <td>0.33</td>\n",
       "      <td>1.38</td>\n",
       "    </tr>\n",
       "    <tr>\n",
       "      <th>61</th>\n",
       "      <td>8.00</td>\n",
       "      <td>2.43</td>\n",
       "      <td>12.48</td>\n",
       "      <td>2.17</td>\n",
       "      <td>1.09</td>\n",
       "      <td>13.92</td>\n",
       "      <td>0.27</td>\n",
       "      <td>0.00</td>\n",
       "    </tr>\n",
       "  </tbody>\n",
       "</table>\n",
       "<p>62 rows × 8 columns</p>\n",
       "</div>"
      ],
      "text/plain": [
       "    Talent  Infrastructure  Operating Environment  Research  Development  \\\n",
       "0   100.00           94.02                  64.56    100.00       100.00   \n",
       "1    16.51          100.00                  91.57     71.42        79.97   \n",
       "2    39.65           71.43                  74.65     36.50        25.03   \n",
       "3    31.28           77.05                  93.94     30.67        25.78   \n",
       "4    35.76           67.58                  82.44     32.63        27.96   \n",
       "..     ...             ...                    ...       ...          ...   \n",
       "57    6.27           34.64                  35.79      0.12         0.95   \n",
       "58    1.11           38.84                   0.00      2.08         1.54   \n",
       "59    0.75           14.11                  29.84      0.07        12.15   \n",
       "60    2.74            0.00                  50.10      0.45         2.06   \n",
       "61    8.00            2.43                  12.48      2.17         1.09   \n",
       "\n",
       "    Government Strategy  Commercial  Total score  \n",
       "0                 77.39      100.00       100.00  \n",
       "1                 94.87       44.02        62.92  \n",
       "2                 82.82       18.91        40.93  \n",
       "3                100.00       14.88        40.19  \n",
       "4                 43.91       27.33        39.89  \n",
       "..                  ...         ...          ...  \n",
       "57                35.57        0.09         6.62  \n",
       "58                68.72        0.31         4.83  \n",
       "59                 7.75        0.31         2.30  \n",
       "60                 7.75        0.33         1.38  \n",
       "61                13.92        0.27         0.00  \n",
       "\n",
       "[62 rows x 8 columns]"
      ]
     },
     "execution_count": 429,
     "metadata": {},
     "output_type": "execute_result"
    }
   ],
   "source": [
    "X\n"
   ]
  },
  {
   "cell_type": "code",
   "execution_count": 430,
   "id": "deebd320",
   "metadata": {},
   "outputs": [
    {
     "data": {
      "text/plain": [
       "0     100.00\n",
       "1      16.51\n",
       "2      39.65\n",
       "3      31.28\n",
       "4      35.76\n",
       "       ...  \n",
       "57      6.27\n",
       "58      1.11\n",
       "59      0.75\n",
       "60      2.74\n",
       "61      8.00\n",
       "Name: Talent, Length: 62, dtype: float64"
      ]
     },
     "execution_count": 430,
     "metadata": {},
     "output_type": "execute_result"
    }
   ],
   "source": [
    "y"
   ]
  },
  {
   "cell_type": "code",
   "execution_count": 431,
   "id": "7ae8b496",
   "metadata": {},
   "outputs": [],
   "source": [
    "# Split the dataset into training and test sets\n",
    "X_train, X_test, y_train, y_test = train_test_split(X, y, test_size=0.2, random_state=42)"
   ]
  },
  {
   "cell_type": "code",
   "execution_count": 461,
   "id": "a937504a",
   "metadata": {},
   "outputs": [],
   "source": [
    "# Standardize the independent variables\n",
    "scaler = StandardScaler()\n",
    "X_scaled = scaler.fit_transform(X)\n"
   ]
  },
  {
   "cell_type": "code",
   "execution_count": 432,
   "id": "235c0ee7",
   "metadata": {},
   "outputs": [
    {
     "data": {
      "text/plain": [
       "Ridge()"
      ]
     },
     "execution_count": 432,
     "metadata": {},
     "output_type": "execute_result"
    }
   ],
   "source": [
    "# Create and train the Ridge regression model\n",
    "ridge = Ridge(alpha=1.0)  # You can adjust the value of alpha (regularization strength)\n",
    "ridge.fit(X_train, y_train)"
   ]
  },
  {
   "cell_type": "code",
   "execution_count": 433,
   "id": "013024c1",
   "metadata": {},
   "outputs": [],
   "source": [
    "y_pred = ridge.predict(X_test)"
   ]
  },
  {
   "cell_type": "code",
   "execution_count": 434,
   "id": "927679e9",
   "metadata": {},
   "outputs": [
    {
     "data": {
      "text/plain": [
       "array([ 4.99131669,  6.68851513, 99.98128645,  6.2704861 , 39.37603473,\n",
       "        4.97235095, 45.25593323, 24.98834522,  4.49524693,  0.75069897,\n",
       "       11.09262863, 28.31832949,  8.49212871])"
      ]
     },
     "execution_count": 434,
     "metadata": {},
     "output_type": "execute_result"
    }
   ],
   "source": [
    "y_pred"
   ]
  },
  {
   "cell_type": "code",
   "execution_count": 459,
   "id": "310471c4",
   "metadata": {},
   "outputs": [
    {
     "name": "stdout",
     "output_type": "stream",
     "text": [
      "Mean Squared Error: 4.7575763824363586e-05\n"
     ]
    }
   ],
   "source": []
  },
  {
   "cell_type": "code",
   "execution_count": 460,
   "id": "9584bc0c",
   "metadata": {},
   "outputs": [
    {
     "data": {
      "image/png": "[encoded data removed]",
      "text/plain": [
       "<Figure size 640x480 with 1 Axes>"
      ]
     },
     "metadata": {},
     "output_type": "display_data"
    }
   ],
   "source": [
    "plt.scatter(y_test, y_pred)\n",
    "plt.xlabel(\"Actual Values\")\n",
    "plt.ylabel(\"Predicted Values\")\n",
    "plt.title(\"Actual vs. Predicted Values for Ridge Regression\")\n",
    "plt.show()"
   ]
  },
  {
   "cell_type": "code",
   "execution_count": 462,
   "id": "7c040e90",
   "metadata": {},
   "outputs": [],
   "source": [
    "# Define a range of alpha values for ridge regression\n",
    "alphas = np.logspace(-4, 4, 100)"
   ]
  },
  {
   "cell_type": "code",
   "execution_count": 463,
   "id": "74d52c7e",
   "metadata": {},
   "outputs": [],
   "source": [
    "# Perform ridge regression for each alpha value\n",
    "coefs = []\n",
    "for alpha in alphas:\n",
    "    ridge = Ridge(alpha=alpha)\n",
    "    ridge.fit(X_scaled, y)\n",
    "    coefs.append(ridge.coef_)"
   ]
  },
  {
   "cell_type": "code",
   "execution_count": 464,
   "id": "34c2ba2b",
   "metadata": {},
   "outputs": [
    {
     "data": {
      "image/png": "[encoded data removed]",
      "text/plain": [
       "<Figure size 1000x600 with 1 Axes>"
      ]
     },
     "metadata": {},
     "output_type": "display_data"
    }
   ],
   "source": [
    "\n",
    "# Plot the ridge coefficients\n",
    "plt.figure(figsize=(10, 6))\n",
    "plt.plot(alphas, coefs)\n",
    "plt.xscale('log')\n",
    "plt.xlabel('Alpha')\n",
    "plt.ylabel('Coefficient')\n",
    "plt.title('Ridge Regression Coefficients')\n",
    "plt.legend(X.columns)\n",
    "plt.grid(True)\n",
    "plt.show()"
   ]
  },
  {
   "cell_type": "code",
   "execution_count": null,
   "id": "455cd2f2",
   "metadata": {},
   "outputs": [],
   "source": []
  },
  {
   "cell_type": "code",
   "execution_count": null,
   "id": "d2408804",
   "metadata": {},
   "outputs": [],
   "source": []
  }
 ],
 "metadata": {
  "kernelspec": {
   "display_name": "Python 3 (ipykernel)",
   "language": "python",
   "name": "python3"
  },
  "language_info": {
   "codemirror_mode": {
    "name": "ipython",
    "version": 3
   },
   "file_extension": ".py",
   "mimetype": "text/x-python",
   "name": "python",
   "nbconvert_exporter": "python",
   "pygments_lexer": "ipython3",
   "version": "3.9.13"
  }
 },
 "nbformat": 4,
 "nbformat_minor": 5
}
